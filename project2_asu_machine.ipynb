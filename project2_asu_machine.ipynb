{
  "cells": [
    {
      "cell_type": "markdown",
      "id": "285ee31b",
      "metadata": {
        "id": "285ee31b"
      },
      "source": [
        "#   MACHINE LEARNING Project\n",
        "\n"
      ]
    },
    {
      "cell_type": "markdown",
      "id": "15cc3acb",
      "metadata": {
        "id": "15cc3acb"
      },
      "source": [
        "### import data and Libraries"
      ]
    },
    {
      "cell_type": "code",
      "execution_count": null,
      "id": "33d6b737",
      "metadata": {
        "id": "33d6b737"
      },
      "outputs": [],
      "source": [
        "import pandas as pd \n",
        "import numpy as np \n",
        "import matplotlib.pyplot as plt\n",
        "from sklearn.model_selection import cross_val_score\n",
        "from sklearn.neighbors import KNeighborsClassifier\n",
        "from sklearn.model_selection import GridSearchCV\n",
        "import sklearn.metrics\n",
        "from sklearn.metrics import accuracy_score\n",
        "from sklearn.linear_model import LogisticRegression\n",
        "from sklearn.naive_bayes import GaussianNB\n",
        "from sklearn.tree import DecisionTreeClassifier,DecisionTreeRegressor\n",
        "from sklearn.svm import SVC"
      ]
    },
    {
      "cell_type": "code",
      "execution_count": null,
      "id": "eee02d38",
      "metadata": {
        "colab": {
          "base_uri": "https://localhost:8080/",
          "height": 505
        },
        "id": "eee02d38",
        "outputId": "39d19bdb-2968-4e03-9afb-8f12f811b05b"
      },
      "outputs": [
        {
          "output_type": "execute_result",
          "data": {
            "text/html": [
              "\n",
              "  <div id=\"df-4efcf0c1-90cc-4c4c-85fa-ebafc82dfcf8\">\n",
              "    <div class=\"colab-df-container\">\n",
              "      <div>\n",
              "<style scoped>\n",
              "    .dataframe tbody tr th:only-of-type {\n",
              "        vertical-align: middle;\n",
              "    }\n",
              "\n",
              "    .dataframe tbody tr th {\n",
              "        vertical-align: top;\n",
              "    }\n",
              "\n",
              "    .dataframe thead th {\n",
              "        text-align: right;\n",
              "    }\n",
              "</style>\n",
              "<table border=\"1\" class=\"dataframe\">\n",
              "  <thead>\n",
              "    <tr style=\"text-align: right;\">\n",
              "      <th></th>\n",
              "      <th>Unnamed: 0</th>\n",
              "      <th>location</th>\n",
              "      <th>country</th>\n",
              "      <th>gender</th>\n",
              "      <th>age</th>\n",
              "      <th>vis_wuhan</th>\n",
              "      <th>from_wuhan</th>\n",
              "      <th>symptom1</th>\n",
              "      <th>symptom2</th>\n",
              "      <th>symptom3</th>\n",
              "      <th>symptom4</th>\n",
              "      <th>symptom5</th>\n",
              "      <th>symptom6</th>\n",
              "      <th>diff_sym_hos</th>\n",
              "      <th>result</th>\n",
              "    </tr>\n",
              "  </thead>\n",
              "  <tbody>\n",
              "    <tr>\n",
              "      <th>0</th>\n",
              "      <td>0</td>\n",
              "      <td>104</td>\n",
              "      <td>8</td>\n",
              "      <td>1</td>\n",
              "      <td>66.0</td>\n",
              "      <td>1</td>\n",
              "      <td>0</td>\n",
              "      <td>14</td>\n",
              "      <td>31</td>\n",
              "      <td>19</td>\n",
              "      <td>12</td>\n",
              "      <td>3</td>\n",
              "      <td>1</td>\n",
              "      <td>8</td>\n",
              "      <td>1</td>\n",
              "    </tr>\n",
              "    <tr>\n",
              "      <th>1</th>\n",
              "      <td>1</td>\n",
              "      <td>101</td>\n",
              "      <td>8</td>\n",
              "      <td>0</td>\n",
              "      <td>56.0</td>\n",
              "      <td>0</td>\n",
              "      <td>1</td>\n",
              "      <td>14</td>\n",
              "      <td>31</td>\n",
              "      <td>19</td>\n",
              "      <td>12</td>\n",
              "      <td>3</td>\n",
              "      <td>1</td>\n",
              "      <td>0</td>\n",
              "      <td>0</td>\n",
              "    </tr>\n",
              "    <tr>\n",
              "      <th>2</th>\n",
              "      <td>2</td>\n",
              "      <td>137</td>\n",
              "      <td>8</td>\n",
              "      <td>1</td>\n",
              "      <td>46.0</td>\n",
              "      <td>0</td>\n",
              "      <td>1</td>\n",
              "      <td>14</td>\n",
              "      <td>31</td>\n",
              "      <td>19</td>\n",
              "      <td>12</td>\n",
              "      <td>3</td>\n",
              "      <td>1</td>\n",
              "      <td>13</td>\n",
              "      <td>0</td>\n",
              "    </tr>\n",
              "    <tr>\n",
              "      <th>3</th>\n",
              "      <td>3</td>\n",
              "      <td>116</td>\n",
              "      <td>8</td>\n",
              "      <td>0</td>\n",
              "      <td>60.0</td>\n",
              "      <td>1</td>\n",
              "      <td>0</td>\n",
              "      <td>14</td>\n",
              "      <td>31</td>\n",
              "      <td>19</td>\n",
              "      <td>12</td>\n",
              "      <td>3</td>\n",
              "      <td>1</td>\n",
              "      <td>0</td>\n",
              "      <td>0</td>\n",
              "    </tr>\n",
              "    <tr>\n",
              "      <th>4</th>\n",
              "      <td>4</td>\n",
              "      <td>116</td>\n",
              "      <td>8</td>\n",
              "      <td>1</td>\n",
              "      <td>58.0</td>\n",
              "      <td>0</td>\n",
              "      <td>0</td>\n",
              "      <td>14</td>\n",
              "      <td>31</td>\n",
              "      <td>19</td>\n",
              "      <td>12</td>\n",
              "      <td>3</td>\n",
              "      <td>1</td>\n",
              "      <td>0</td>\n",
              "      <td>0</td>\n",
              "    </tr>\n",
              "    <tr>\n",
              "      <th>...</th>\n",
              "      <td>...</td>\n",
              "      <td>...</td>\n",
              "      <td>...</td>\n",
              "      <td>...</td>\n",
              "      <td>...</td>\n",
              "      <td>...</td>\n",
              "      <td>...</td>\n",
              "      <td>...</td>\n",
              "      <td>...</td>\n",
              "      <td>...</td>\n",
              "      <td>...</td>\n",
              "      <td>...</td>\n",
              "      <td>...</td>\n",
              "      <td>...</td>\n",
              "      <td>...</td>\n",
              "    </tr>\n",
              "    <tr>\n",
              "      <th>858</th>\n",
              "      <td>858</td>\n",
              "      <td>48</td>\n",
              "      <td>3</td>\n",
              "      <td>2</td>\n",
              "      <td>24.0</td>\n",
              "      <td>0</td>\n",
              "      <td>0</td>\n",
              "      <td>14</td>\n",
              "      <td>31</td>\n",
              "      <td>19</td>\n",
              "      <td>12</td>\n",
              "      <td>3</td>\n",
              "      <td>1</td>\n",
              "      <td>0</td>\n",
              "      <td>1</td>\n",
              "    </tr>\n",
              "    <tr>\n",
              "      <th>859</th>\n",
              "      <td>859</td>\n",
              "      <td>0</td>\n",
              "      <td>0</td>\n",
              "      <td>2</td>\n",
              "      <td>35.0</td>\n",
              "      <td>0</td>\n",
              "      <td>0</td>\n",
              "      <td>14</td>\n",
              "      <td>31</td>\n",
              "      <td>19</td>\n",
              "      <td>12</td>\n",
              "      <td>3</td>\n",
              "      <td>1</td>\n",
              "      <td>0</td>\n",
              "      <td>0</td>\n",
              "    </tr>\n",
              "    <tr>\n",
              "      <th>860</th>\n",
              "      <td>860</td>\n",
              "      <td>3</td>\n",
              "      <td>1</td>\n",
              "      <td>1</td>\n",
              "      <td>49.4</td>\n",
              "      <td>0</td>\n",
              "      <td>0</td>\n",
              "      <td>14</td>\n",
              "      <td>31</td>\n",
              "      <td>19</td>\n",
              "      <td>12</td>\n",
              "      <td>3</td>\n",
              "      <td>1</td>\n",
              "      <td>0</td>\n",
              "      <td>0</td>\n",
              "    </tr>\n",
              "    <tr>\n",
              "      <th>861</th>\n",
              "      <td>861</td>\n",
              "      <td>24</td>\n",
              "      <td>9</td>\n",
              "      <td>1</td>\n",
              "      <td>49.4</td>\n",
              "      <td>0</td>\n",
              "      <td>0</td>\n",
              "      <td>14</td>\n",
              "      <td>31</td>\n",
              "      <td>19</td>\n",
              "      <td>12</td>\n",
              "      <td>3</td>\n",
              "      <td>1</td>\n",
              "      <td>0</td>\n",
              "      <td>0</td>\n",
              "    </tr>\n",
              "    <tr>\n",
              "      <th>862</th>\n",
              "      <td>862</td>\n",
              "      <td>15</td>\n",
              "      <td>27</td>\n",
              "      <td>1</td>\n",
              "      <td>70.0</td>\n",
              "      <td>0</td>\n",
              "      <td>0</td>\n",
              "      <td>14</td>\n",
              "      <td>31</td>\n",
              "      <td>19</td>\n",
              "      <td>12</td>\n",
              "      <td>3</td>\n",
              "      <td>1</td>\n",
              "      <td>0</td>\n",
              "      <td>0</td>\n",
              "    </tr>\n",
              "  </tbody>\n",
              "</table>\n",
              "<p>863 rows × 15 columns</p>\n",
              "</div>\n",
              "      <button class=\"colab-df-convert\" onclick=\"convertToInteractive('df-4efcf0c1-90cc-4c4c-85fa-ebafc82dfcf8')\"\n",
              "              title=\"Convert this dataframe to an interactive table.\"\n",
              "              style=\"display:none;\">\n",
              "        \n",
              "  <svg xmlns=\"http://www.w3.org/2000/svg\" height=\"24px\"viewBox=\"0 0 24 24\"\n",
              "       width=\"24px\">\n",
              "    <path d=\"M0 0h24v24H0V0z\" fill=\"none\"/>\n",
              "    <path d=\"M18.56 5.44l.94 2.06.94-2.06 2.06-.94-2.06-.94-.94-2.06-.94 2.06-2.06.94zm-11 1L8.5 8.5l.94-2.06 2.06-.94-2.06-.94L8.5 2.5l-.94 2.06-2.06.94zm10 10l.94 2.06.94-2.06 2.06-.94-2.06-.94-.94-2.06-.94 2.06-2.06.94z\"/><path d=\"M17.41 7.96l-1.37-1.37c-.4-.4-.92-.59-1.43-.59-.52 0-1.04.2-1.43.59L10.3 9.45l-7.72 7.72c-.78.78-.78 2.05 0 2.83L4 21.41c.39.39.9.59 1.41.59.51 0 1.02-.2 1.41-.59l7.78-7.78 2.81-2.81c.8-.78.8-2.07 0-2.86zM5.41 20L4 18.59l7.72-7.72 1.47 1.35L5.41 20z\"/>\n",
              "  </svg>\n",
              "      </button>\n",
              "      \n",
              "  <style>\n",
              "    .colab-df-container {\n",
              "      display:flex;\n",
              "      flex-wrap:wrap;\n",
              "      gap: 12px;\n",
              "    }\n",
              "\n",
              "    .colab-df-convert {\n",
              "      background-color: #E8F0FE;\n",
              "      border: none;\n",
              "      border-radius: 50%;\n",
              "      cursor: pointer;\n",
              "      display: none;\n",
              "      fill: #1967D2;\n",
              "      height: 32px;\n",
              "      padding: 0 0 0 0;\n",
              "      width: 32px;\n",
              "    }\n",
              "\n",
              "    .colab-df-convert:hover {\n",
              "      background-color: #E2EBFA;\n",
              "      box-shadow: 0px 1px 2px rgba(60, 64, 67, 0.3), 0px 1px 3px 1px rgba(60, 64, 67, 0.15);\n",
              "      fill: #174EA6;\n",
              "    }\n",
              "\n",
              "    [theme=dark] .colab-df-convert {\n",
              "      background-color: #3B4455;\n",
              "      fill: #D2E3FC;\n",
              "    }\n",
              "\n",
              "    [theme=dark] .colab-df-convert:hover {\n",
              "      background-color: #434B5C;\n",
              "      box-shadow: 0px 1px 3px 1px rgba(0, 0, 0, 0.15);\n",
              "      filter: drop-shadow(0px 1px 2px rgba(0, 0, 0, 0.3));\n",
              "      fill: #FFFFFF;\n",
              "    }\n",
              "  </style>\n",
              "\n",
              "      <script>\n",
              "        const buttonEl =\n",
              "          document.querySelector('#df-4efcf0c1-90cc-4c4c-85fa-ebafc82dfcf8 button.colab-df-convert');\n",
              "        buttonEl.style.display =\n",
              "          google.colab.kernel.accessAllowed ? 'block' : 'none';\n",
              "\n",
              "        async function convertToInteractive(key) {\n",
              "          const element = document.querySelector('#df-4efcf0c1-90cc-4c4c-85fa-ebafc82dfcf8');\n",
              "          const dataTable =\n",
              "            await google.colab.kernel.invokeFunction('convertToInteractive',\n",
              "                                                     [key], {});\n",
              "          if (!dataTable) return;\n",
              "\n",
              "          const docLinkHtml = 'Like what you see? Visit the ' +\n",
              "            '<a target=\"_blank\" href=https://colab.research.google.com/notebooks/data_table.ipynb>data table notebook</a>'\n",
              "            + ' to learn more about interactive tables.';\n",
              "          element.innerHTML = '';\n",
              "          dataTable['output_type'] = 'display_data';\n",
              "          await google.colab.output.renderOutput(dataTable, element);\n",
              "          const docLink = document.createElement('div');\n",
              "          docLink.innerHTML = docLinkHtml;\n",
              "          element.appendChild(docLink);\n",
              "        }\n",
              "      </script>\n",
              "    </div>\n",
              "  </div>\n",
              "  "
            ],
            "text/plain": [
              "     Unnamed: 0  location  country  ...  symptom6  diff_sym_hos  result\n",
              "0             0       104        8  ...         1             8       1\n",
              "1             1       101        8  ...         1             0       0\n",
              "2             2       137        8  ...         1            13       0\n",
              "3             3       116        8  ...         1             0       0\n",
              "4             4       116        8  ...         1             0       0\n",
              "..          ...       ...      ...  ...       ...           ...     ...\n",
              "858         858        48        3  ...         1             0       1\n",
              "859         859         0        0  ...         1             0       0\n",
              "860         860         3        1  ...         1             0       0\n",
              "861         861        24        9  ...         1             0       0\n",
              "862         862        15       27  ...         1             0       0\n",
              "\n",
              "[863 rows x 15 columns]"
            ]
          },
          "metadata": {},
          "execution_count": 2
        }
      ],
      "source": [
        "# INSERT DATA and show the data\n",
        "data=pd.read_csv('data.csv')\n",
        "data"
      ]
    },
    {
      "cell_type": "markdown",
      "source": [
        "###Make data available for models"
      ],
      "metadata": {
        "id": "dr9byxMuYLcH"
      },
      "id": "dr9byxMuYLcH"
    },
    {
      "cell_type": "code",
      "execution_count": null,
      "id": "3d3de26b",
      "metadata": {
        "id": "3d3de26b"
      },
      "outputs": [],
      "source": [
        "# split data into X and y\n",
        "X=data.iloc[:,1:-1].values\n",
        "y=data.iloc[:,-1].values"
      ]
    },
    {
      "cell_type": "code",
      "execution_count": null,
      "id": "7b409561",
      "metadata": {
        "id": "7b409561"
      },
      "outputs": [],
      "source": [
        "from sklearn.model_selection import train_test_split\n",
        "train_x,test_x,train_y,test_y=train_test_split(X,y,test_size=0.2 )"
      ]
    },
    {
      "cell_type": "code",
      "execution_count": null,
      "id": "59e6168f-7d21-4331-9100-248fa7863d8b",
      "metadata": {
        "id": "59e6168f-7d21-4331-9100-248fa7863d8b"
      },
      "outputs": [],
      "source": [
        "train_valid_x,test_valid_x,train_valid_y,test_valid_y=train_test_split(train_x,train_y,test_size=0.2 )"
      ]
    },
    {
      "cell_type": "markdown",
      "id": "92b002bc",
      "metadata": {
        "id": "92b002bc"
      },
      "source": [
        "# 1) K-Nearest neighbors classifier"
      ]
    },
    {
      "cell_type": "markdown",
      "id": "c7a52211-7c40-4b7f-9cf2-a9084389aeca",
      "metadata": {
        "id": "c7a52211-7c40-4b7f-9cf2-a9084389aeca"
      },
      "source": [
        "***tuning*** ***hyperparameter*** "
      ]
    },
    {
      "cell_type": "code",
      "execution_count": null,
      "id": "4d5597ee-a092-48fa-babe-a1b087b7f440",
      "metadata": {
        "colab": {
          "base_uri": "https://localhost:8080/"
        },
        "id": "4d5597ee-a092-48fa-babe-a1b087b7f440",
        "outputId": "36f34a50-307c-4985-f8fd-44ce053f5ae3"
      },
      "outputs": [
        {
          "output_type": "execute_result",
          "data": {
            "text/plain": [
              "array([0.92753623, 0.92028986, 0.94202899, 0.94927536, 0.93478261,\n",
              "       0.94927536, 0.93478261, 0.92753623, 0.92753623, 0.92753623,\n",
              "       0.93478261, 0.92753623, 0.92753623, 0.92753623, 0.93478261,\n",
              "       0.92753623, 0.93478261, 0.92753623, 0.92028986, 0.92753623])"
            ]
          },
          "metadata": {},
          "execution_count": 8
        }
      ],
      "source": [
        "# calculating the accuracy of models with different values of k\n",
        "mean_acc = np.zeros(20)\n",
        "for i in range(1,21):\n",
        "    #Train Model and Predict  \n",
        "    knn = KNeighborsClassifier(n_neighbors = i).fit(train_valid_x,train_valid_y)\n",
        "    yhat= knn.predict(test_valid_x)\n",
        "    mean_acc[i-1] = accuracy_score(test_valid_y, yhat)\n",
        "\n",
        "mean_acc"
      ]
    },
    {
      "cell_type": "code",
      "execution_count": null,
      "id": "928d9e04-0bec-4c60-99df-cd3ecae173c1",
      "metadata": {
        "colab": {
          "base_uri": "https://localhost:8080/",
          "height": 388
        },
        "id": "928d9e04-0bec-4c60-99df-cd3ecae173c1",
        "outputId": "956bf9fd-4dbf-42d8-f992-0c7343c5083d"
      },
      "outputs": [
        {
          "output_type": "display_data",
          "data": {
            "image/png": "[encoded data removed]",
            "text/plain": [
              "<Figure size 720x432 with 1 Axes>"
            ]
          },
          "metadata": {
            "needs_background": "light"
          }
        }
      ],
      "source": [
        "#Plot the ACC\n",
        "loc = np.arange(1,21,step=1.0)\n",
        "plt.figure(figsize = (10, 6))\n",
        "plt.plot(range(1,21), mean_acc)\n",
        "plt.xticks(loc)\n",
        "plt.xlabel('Number of Neighbors ')\n",
        "plt.ylabel('Accuracy')\n",
        "plt.show()"
      ]
    },
    {
      "cell_type": "code",
      "source": [
        "#Grid parameters\n",
        "grid_params = { 'n_neighbors' : [4,6],\n",
        "               'weights' : ['uniform','distance'],\n",
        "               'metric' : ['minkowski','euclidean','manhattan']}"
      ],
      "metadata": {
        "id": "YJLkHUwDRcez"
      },
      "id": "YJLkHUwDRcez",
      "execution_count": null,
      "outputs": []
    },
    {
      "cell_type": "code",
      "source": [
        "#Define Grid search\n",
        "gs = GridSearchCV(KNeighborsClassifier(), grid_params, verbose = 1, cv=3, n_jobs = -1)"
      ],
      "metadata": {
        "id": "PRibDgkuRcyq"
      },
      "id": "PRibDgkuRcyq",
      "execution_count": null,
      "outputs": []
    },
    {
      "cell_type": "code",
      "source": [
        "#Fit Gridsearch\n",
        "g_res = gs.fit(train_valid_x,train_valid_y)"
      ],
      "metadata": {
        "colab": {
          "base_uri": "https://localhost:8080/"
        },
        "id": "tPJYBwyzR47b",
        "outputId": "c607d7e9-684c-413e-c6e8-cb61954b0a8d"
      },
      "id": "tPJYBwyzR47b",
      "execution_count": null,
      "outputs": [
        {
          "output_type": "stream",
          "name": "stdout",
          "text": [
            "Fitting 3 folds for each of 12 candidates, totalling 36 fits\n"
          ]
        }
      ]
    },
    {
      "cell_type": "code",
      "source": [
        "g_res.best_score_  #Best Score "
      ],
      "metadata": {
        "colab": {
          "base_uri": "https://localhost:8080/"
        },
        "id": "SyobIrU2R492",
        "outputId": "fdea679b-9fa8-4e45-c0aa-41499f181bfa"
      },
      "id": "SyobIrU2R492",
      "execution_count": null,
      "outputs": [
        {
          "output_type": "execute_result",
          "data": {
            "text/plain": [
              "0.9438405797101449"
            ]
          },
          "metadata": {},
          "execution_count": 13
        }
      ]
    },
    {
      "cell_type": "code",
      "source": [
        "g_res.best_params_  #Best Parameters "
      ],
      "metadata": {
        "colab": {
          "base_uri": "https://localhost:8080/"
        },
        "id": "L3b6G4L-R5HR",
        "outputId": "c4fb9bc1-80aa-40e2-81b3-bcfebe3eb28f"
      },
      "id": "L3b6G4L-R5HR",
      "execution_count": null,
      "outputs": [
        {
          "output_type": "execute_result",
          "data": {
            "text/plain": [
              "{'metric': 'minkowski', 'n_neighbors': 6, 'weights': 'distance'}"
            ]
          },
          "metadata": {},
          "execution_count": 14
        }
      ]
    },
    {
      "cell_type": "markdown",
      "source": [
        "**KNN** (With Parameters After tuning)"
      ],
      "metadata": {
        "id": "L0IxcpWETiCN"
      },
      "id": "L0IxcpWETiCN"
    },
    {
      "cell_type": "code",
      "execution_count": null,
      "id": "820dade1",
      "metadata": {
        "colab": {
          "base_uri": "https://localhost:8080/"
        },
        "id": "820dade1",
        "outputId": "820dc685-6ec6-4694-afc9-2d285cb68746"
      },
      "outputs": [
        {
          "output_type": "execute_result",
          "data": {
            "text/plain": [
              "KNeighborsClassifier(algorithm='brute', n_neighbors=6, weights='distance')"
            ]
          },
          "metadata": {},
          "execution_count": 15
        }
      ],
      "source": [
        "# KNN MODEL\n",
        "cl=KNeighborsClassifier(n_neighbors = 6, weights = 'distance',algorithm = 'brute',metric = 'minkowski')\n",
        "cl.fit(train_x,train_y)"
      ]
    },
    {
      "cell_type": "code",
      "execution_count": null,
      "id": "50bc2e77-17ba-408e-91c2-85fdc43817a1",
      "metadata": {
        "id": "50bc2e77-17ba-408e-91c2-85fdc43817a1"
      },
      "outputs": [],
      "source": [
        "scores = cross_val_score(cl ,train_x,train_y , cv = 5)"
      ]
    },
    {
      "cell_type": "code",
      "execution_count": null,
      "id": "3c02a560-25ec-48f0-a41a-f91aa7b6102e",
      "metadata": {
        "colab": {
          "base_uri": "https://localhost:8080/"
        },
        "id": "3c02a560-25ec-48f0-a41a-f91aa7b6102e",
        "outputId": "e18646e7-5773-4e65-b208-758830e805bd"
      },
      "outputs": [
        {
          "output_type": "execute_result",
          "data": {
            "text/plain": [
              "array([0.95652174, 0.97101449, 0.92028986, 0.96376812, 0.92028986])"
            ]
          },
          "metadata": {},
          "execution_count": 17
        }
      ],
      "source": [
        "scores"
      ]
    },
    {
      "cell_type": "code",
      "execution_count": null,
      "id": "cd7910ed",
      "metadata": {
        "id": "cd7910ed"
      },
      "outputs": [],
      "source": [
        "y_pred1=cl.predict(test_x)"
      ]
    },
    {
      "cell_type": "code",
      "execution_count": null,
      "id": "6c670a09",
      "metadata": {
        "colab": {
          "base_uri": "https://localhost:8080/"
        },
        "id": "6c670a09",
        "outputId": "e93de66c-0aca-4fbb-f077-51d1c82d1ae4"
      },
      "outputs": [
        {
          "output_type": "stream",
          "name": "stdout",
          "text": [
            "Accuracy :  93.06 %\n",
            "Recall :  78.95 %\n",
            "Precision :  65.22 %\n",
            "F1 score :  71.43 %\n"
          ]
        }
      ],
      "source": [
        "#print metrics\n",
        "from sklearn.metrics import classification_report,accuracy_score,recall_score,precision_score,f1_score\n",
        "print(\"Accuracy : \", round(accuracy_score(y_pred1,test_y)*100,2),'%')\n",
        "print(\"Recall : \", round(recall_score(y_pred1,test_y)*100,2),'%')\n",
        "print(\"Precision : \", round(precision_score(y_pred1,test_y)*100,2),'%')\n",
        "print(\"F1 score : \", round(f1_score(y_pred1,test_y)*100,2),'%')\n"
      ]
    },
    {
      "cell_type": "code",
      "execution_count": null,
      "id": "860f7ca2",
      "metadata": {
        "colab": {
          "base_uri": "https://localhost:8080/",
          "height": 296
        },
        "id": "860f7ca2",
        "outputId": "d5ba6bae-da99-4398-862e-233cdb5e3167"
      },
      "outputs": [
        {
          "output_type": "execute_result",
          "data": {
            "text/plain": [
              "Text(0, 0.5, 'TPR')"
            ]
          },
          "metadata": {},
          "execution_count": 20
        },
        {
          "output_type": "display_data",
          "data": {
            "image/png": "[encoded data removed]",
            "text/plain": [
              "<Figure size 432x288 with 1 Axes>"
            ]
          },
          "metadata": {
            "needs_background": "light"
          }
        }
      ],
      "source": [
        "#plotting\n",
        "from sklearn import metrics\n",
        "fpr, tpr, thresholds = metrics.roc_curve(test_y,y_pred1)\n",
        "\n",
        "plt.plot(fpr,tpr)\n",
        "plt.grid()\n",
        "plt.xlabel('FPR')\n",
        "plt.ylabel('TPR')"
      ]
    },
    {
      "cell_type": "code",
      "execution_count": null,
      "id": "5b1f3267",
      "metadata": {
        "colab": {
          "base_uri": "https://localhost:8080/",
          "height": 296
        },
        "id": "5b1f3267",
        "outputId": "8d7292ed-f0d8-4780-ec49-c7dba4c52f44"
      },
      "outputs": [
        {
          "output_type": "execute_result",
          "data": {
            "text/plain": [
              "Text(0.5, 0, 'Threshold')"
            ]
          },
          "metadata": {},
          "execution_count": 21
        },
        {
          "output_type": "display_data",
          "data": {
            "image/png": "[encoded data removed]",
            "text/plain": [
              "<Figure size 432x288 with 1 Axes>"
            ]
          },
          "metadata": {
            "needs_background": "light"
          }
        }
      ],
      "source": [
        "#plotting\n",
        "plt.plot(thresholds,tpr, thresholds,fpr)\n",
        "plt.legend(['TPR','FPR'])\n",
        "plt.xlabel('Threshold')\n"
      ]
    },
    {
      "cell_type": "code",
      "execution_count": null,
      "id": "de10e85a",
      "metadata": {
        "colab": {
          "base_uri": "https://localhost:8080/"
        },
        "id": "de10e85a",
        "outputId": "998a8e0e-181f-453c-faae-89633e98fb59"
      },
      "outputs": [
        {
          "output_type": "stream",
          "name": "stdout",
          "text": [
            "AUC=0.812754\n"
          ]
        }
      ],
      "source": [
        "#area under the curve\n",
        "auc=metrics.roc_auc_score(test_y,y_pred1)\n",
        "print(\"AUC=%f\" % auc)"
      ]
    },
    {
      "cell_type": "markdown",
      "id": "0549d002",
      "metadata": {
        "id": "0549d002"
      },
      "source": [
        "# 2) LR classifier"
      ]
    },
    {
      "cell_type": "code",
      "source": [
        "#Grid parameters\n",
        "param_grid = [    \n",
        "    {'penalty' : ['l1', 'l2', 'elasticnet', 'none'],\n",
        "    'C' : [1e-4,.001,.01,.1,.5,1,2,3,4,5,6,7,8,9,10],\n",
        "    'solver' : ['lbfgs','newton-cg','liblinear','sag','saga'],\n",
        "    'max_iter' : [100, 1000,2500, 5000]\n",
        "    }\n",
        "]"
      ],
      "metadata": {
        "id": "2vEQwF7nWxCk"
      },
      "id": "2vEQwF7nWxCk",
      "execution_count": null,
      "outputs": []
    },
    {
      "cell_type": "code",
      "source": [
        "# LogisticRegression model for tuning\n",
        "model1=LogisticRegression()"
      ],
      "metadata": {
        "id": "tE0kCviTYTKa"
      },
      "id": "tE0kCviTYTKa",
      "execution_count": null,
      "outputs": []
    },
    {
      "cell_type": "code",
      "source": [
        "#Define Grid search\n",
        "clf = GridSearchCV(model1, param_grid = param_grid, cv = 3, verbose=True, n_jobs=-1)"
      ],
      "metadata": {
        "id": "p_u791GUWxJA"
      },
      "id": "p_u791GUWxJA",
      "execution_count": null,
      "outputs": []
    },
    {
      "cell_type": "code",
      "source": [
        "#Fit Gridsearch\n",
        "best_clf = clf.fit(train_valid_x,train_valid_y)"
      ],
      "metadata": {
        "colab": {
          "base_uri": "https://localhost:8080/"
        },
        "id": "7r1FVOetWxLY",
        "outputId": "a8451bde-8ee8-46a2-9449-97445c9b2433"
      },
      "id": "7r1FVOetWxLY",
      "execution_count": null,
      "outputs": [
        {
          "output_type": "stream",
          "name": "stdout",
          "text": [
            "Fitting 3 folds for each of 1200 candidates, totalling 3600 fits\n"
          ]
        },
        {
          "output_type": "stream",
          "name": "stderr",
          "text": [
            "/usr/local/lib/python3.7/dist-packages/sklearn/model_selection/_validation.py:372: FitFailedWarning: \n",
            "1620 fits failed out of a total of 3600.\n",
            "The score on these train-test partitions for these parameters will be set to nan.\n",
            "If these failures are not expected, you can try to debug them by setting error_score='raise'.\n",
            "\n",
            "Below are more details about the failures:\n",
            "--------------------------------------------------------------------------------\n",
            "180 fits failed with the following error:\n",
            "Traceback (most recent call last):\n",
            "  File \"/usr/local/lib/python3.7/dist-packages/sklearn/model_selection/_validation.py\", line 681, in _fit_and_score\n",
            "    estimator.fit(X_train, y_train, **fit_params)\n",
            "  File \"/usr/local/lib/python3.7/dist-packages/sklearn/linear_model/_logistic.py\", line 1461, in fit\n",
            "    solver = _check_solver(self.solver, self.penalty, self.dual)\n",
            "  File \"/usr/local/lib/python3.7/dist-packages/sklearn/linear_model/_logistic.py\", line 449, in _check_solver\n",
            "    % (solver, penalty)\n",
            "ValueError: Solver lbfgs supports only 'l2' or 'none' penalties, got l1 penalty.\n",
            "\n",
            "--------------------------------------------------------------------------------\n",
            "180 fits failed with the following error:\n",
            "Traceback (most recent call last):\n",
            "  File \"/usr/local/lib/python3.7/dist-packages/sklearn/model_selection/_validation.py\", line 681, in _fit_and_score\n",
            "    estimator.fit(X_train, y_train, **fit_params)\n",
            "  File \"/usr/local/lib/python3.7/dist-packages/sklearn/linear_model/_logistic.py\", line 1461, in fit\n",
            "    solver = _check_solver(self.solver, self.penalty, self.dual)\n",
            "  File \"/usr/local/lib/python3.7/dist-packages/sklearn/linear_model/_logistic.py\", line 449, in _check_solver\n",
            "    % (solver, penalty)\n",
            "ValueError: Solver newton-cg supports only 'l2' or 'none' penalties, got l1 penalty.\n",
            "\n",
            "--------------------------------------------------------------------------------\n",
            "180 fits failed with the following error:\n",
            "Traceback (most recent call last):\n",
            "  File \"/usr/local/lib/python3.7/dist-packages/sklearn/model_selection/_validation.py\", line 681, in _fit_and_score\n",
            "    estimator.fit(X_train, y_train, **fit_params)\n",
            "  File \"/usr/local/lib/python3.7/dist-packages/sklearn/linear_model/_logistic.py\", line 1461, in fit\n",
            "    solver = _check_solver(self.solver, self.penalty, self.dual)\n",
            "  File \"/usr/local/lib/python3.7/dist-packages/sklearn/linear_model/_logistic.py\", line 449, in _check_solver\n",
            "    % (solver, penalty)\n",
            "ValueError: Solver sag supports only 'l2' or 'none' penalties, got l1 penalty.\n",
            "\n",
            "--------------------------------------------------------------------------------\n",
            "180 fits failed with the following error:\n",
            "Traceback (most recent call last):\n",
            "  File \"/usr/local/lib/python3.7/dist-packages/sklearn/model_selection/_validation.py\", line 681, in _fit_and_score\n",
            "    estimator.fit(X_train, y_train, **fit_params)\n",
            "  File \"/usr/local/lib/python3.7/dist-packages/sklearn/linear_model/_logistic.py\", line 1461, in fit\n",
            "    solver = _check_solver(self.solver, self.penalty, self.dual)\n",
            "  File \"/usr/local/lib/python3.7/dist-packages/sklearn/linear_model/_logistic.py\", line 449, in _check_solver\n",
            "    % (solver, penalty)\n",
            "ValueError: Solver lbfgs supports only 'l2' or 'none' penalties, got elasticnet penalty.\n",
            "\n",
            "--------------------------------------------------------------------------------\n",
            "180 fits failed with the following error:\n",
            "Traceback (most recent call last):\n",
            "  File \"/usr/local/lib/python3.7/dist-packages/sklearn/model_selection/_validation.py\", line 681, in _fit_and_score\n",
            "    estimator.fit(X_train, y_train, **fit_params)\n",
            "  File \"/usr/local/lib/python3.7/dist-packages/sklearn/linear_model/_logistic.py\", line 1461, in fit\n",
            "    solver = _check_solver(self.solver, self.penalty, self.dual)\n",
            "  File \"/usr/local/lib/python3.7/dist-packages/sklearn/linear_model/_logistic.py\", line 449, in _check_solver\n",
            "    % (solver, penalty)\n",
            "ValueError: Solver newton-cg supports only 'l2' or 'none' penalties, got elasticnet penalty.\n",
            "\n",
            "--------------------------------------------------------------------------------\n",
            "180 fits failed with the following error:\n",
            "Traceback (most recent call last):\n",
            "  File \"/usr/local/lib/python3.7/dist-packages/sklearn/model_selection/_validation.py\", line 681, in _fit_and_score\n",
            "    estimator.fit(X_train, y_train, **fit_params)\n",
            "  File \"/usr/local/lib/python3.7/dist-packages/sklearn/linear_model/_logistic.py\", line 1461, in fit\n",
            "    solver = _check_solver(self.solver, self.penalty, self.dual)\n",
            "  File \"/usr/local/lib/python3.7/dist-packages/sklearn/linear_model/_logistic.py\", line 459, in _check_solver\n",
            "    solver\n",
            "ValueError: Only 'saga' solver supports elasticnet penalty, got solver=liblinear.\n",
            "\n",
            "--------------------------------------------------------------------------------\n",
            "180 fits failed with the following error:\n",
            "Traceback (most recent call last):\n",
            "  File \"/usr/local/lib/python3.7/dist-packages/sklearn/model_selection/_validation.py\", line 681, in _fit_and_score\n",
            "    estimator.fit(X_train, y_train, **fit_params)\n",
            "  File \"/usr/local/lib/python3.7/dist-packages/sklearn/linear_model/_logistic.py\", line 1461, in fit\n",
            "    solver = _check_solver(self.solver, self.penalty, self.dual)\n",
            "  File \"/usr/local/lib/python3.7/dist-packages/sklearn/linear_model/_logistic.py\", line 449, in _check_solver\n",
            "    % (solver, penalty)\n",
            "ValueError: Solver sag supports only 'l2' or 'none' penalties, got elasticnet penalty.\n",
            "\n",
            "--------------------------------------------------------------------------------\n",
            "180 fits failed with the following error:\n",
            "Traceback (most recent call last):\n",
            "  File \"/usr/local/lib/python3.7/dist-packages/sklearn/model_selection/_validation.py\", line 681, in _fit_and_score\n",
            "    estimator.fit(X_train, y_train, **fit_params)\n",
            "  File \"/usr/local/lib/python3.7/dist-packages/sklearn/linear_model/_logistic.py\", line 1473, in fit\n",
            "    % self.l1_ratio\n",
            "ValueError: l1_ratio must be between 0 and 1; got (l1_ratio=None)\n",
            "\n",
            "--------------------------------------------------------------------------------\n",
            "180 fits failed with the following error:\n",
            "Traceback (most recent call last):\n",
            "  File \"/usr/local/lib/python3.7/dist-packages/sklearn/model_selection/_validation.py\", line 681, in _fit_and_score\n",
            "    estimator.fit(X_train, y_train, **fit_params)\n",
            "  File \"/usr/local/lib/python3.7/dist-packages/sklearn/linear_model/_logistic.py\", line 1461, in fit\n",
            "    solver = _check_solver(self.solver, self.penalty, self.dual)\n",
            "  File \"/usr/local/lib/python3.7/dist-packages/sklearn/linear_model/_logistic.py\", line 464, in _check_solver\n",
            "    raise ValueError(\"penalty='none' is not supported for the liblinear solver\")\n",
            "ValueError: penalty='none' is not supported for the liblinear solver\n",
            "\n",
            "  warnings.warn(some_fits_failed_message, FitFailedWarning)\n",
            "/usr/local/lib/python3.7/dist-packages/sklearn/model_selection/_search.py:972: UserWarning: One or more of the test scores are non-finite: [       nan        nan 0.88405797 ...        nan 0.9365942  0.93115942]\n",
            "  category=UserWarning,\n"
          ]
        }
      ]
    },
    {
      "cell_type": "code",
      "source": [
        "#Best Parameters \n",
        "best_clf.best_params_"
      ],
      "metadata": {
        "colab": {
          "base_uri": "https://localhost:8080/"
        },
        "id": "xLAIzollWxN3",
        "outputId": "f7abe270-f0a5-40f1-a4eb-4dba1e736718"
      },
      "id": "xLAIzollWxN3",
      "execution_count": null,
      "outputs": [
        {
          "output_type": "execute_result",
          "data": {
            "text/plain": [
              "{'C': 3, 'max_iter': 100, 'penalty': 'l2', 'solver': 'newton-cg'}"
            ]
          },
          "metadata": {},
          "execution_count": 51
        }
      ]
    },
    {
      "cell_type": "code",
      "source": [
        "best_clf.best_score_    #Best Score"
      ],
      "metadata": {
        "colab": {
          "base_uri": "https://localhost:8080/"
        },
        "id": "rxT0aiQ1OpAg",
        "outputId": "cb7329a9-2e79-437f-f579-96ba29be2185"
      },
      "id": "rxT0aiQ1OpAg",
      "execution_count": null,
      "outputs": [
        {
          "output_type": "execute_result",
          "data": {
            "text/plain": [
              "0.9456521739130435"
            ]
          },
          "metadata": {},
          "execution_count": 64
        }
      ]
    },
    {
      "cell_type": "markdown",
      "source": [
        "LOGISTIC REGRESSION AFTER TUNING"
      ],
      "metadata": {
        "id": "K4aIy7_vaeJ8"
      },
      "id": "K4aIy7_vaeJ8"
    },
    {
      "cell_type": "code",
      "execution_count": null,
      "id": "f91561ba",
      "metadata": {
        "colab": {
          "base_uri": "https://localhost:8080/"
        },
        "id": "f91561ba",
        "outputId": "0dddc322-6f33-4f5b-f977-7fcc703122b8"
      },
      "outputs": [
        {
          "output_type": "execute_result",
          "data": {
            "text/plain": [
              "LogisticRegression(C=3, solver='newton-cg')"
            ]
          },
          "metadata": {},
          "execution_count": 58
        }
      ],
      "source": [
        "#LOGISTIC REGRESSION AFTER TUNING\n",
        "model1=LogisticRegression(C=3 ,max_iter=100 , penalty=\"l2\" , solver=\"newton-cg\" )\n",
        "model1.fit(train_x,train_y)"
      ]
    },
    {
      "cell_type": "code",
      "execution_count": null,
      "id": "37395590",
      "metadata": {
        "id": "37395590"
      },
      "outputs": [],
      "source": [
        "y_pred2=model1.predict(test_x)"
      ]
    },
    {
      "cell_type": "code",
      "execution_count": null,
      "id": "4c8c4a8e",
      "metadata": {
        "colab": {
          "base_uri": "https://localhost:8080/"
        },
        "id": "4c8c4a8e",
        "outputId": "45a7394c-b0ed-4513-e64f-689644bf29e3"
      },
      "outputs": [
        {
          "output_type": "stream",
          "name": "stdout",
          "text": [
            "Accuracy :  94.22 %\n",
            "Recall :  100.0 %\n",
            "Precision :  62.96 %\n",
            "F1 score :  77.27 %\n"
          ]
        }
      ],
      "source": [
        "#print metrics\n",
        "from sklearn.metrics import classification_report,accuracy_score,recall_score,precision_score,f1_score\n",
        "print(\"Accuracy : \", round(accuracy_score(y_pred2,test_y)*100,2),'%')\n",
        "print(\"Recall : \", round(recall_score(y_pred2,test_y)*100,2),'%')\n",
        "print(\"Precision : \", round(precision_score(y_pred2,test_y)*100,2),'%')\n",
        "print(\"F1 score : \", round(f1_score(y_pred2,test_y)*100,2),'%')"
      ]
    },
    {
      "cell_type": "code",
      "execution_count": null,
      "id": "cb680d24",
      "metadata": {
        "colab": {
          "base_uri": "https://localhost:8080/",
          "height": 296
        },
        "id": "cb680d24",
        "outputId": "ab8f1c23-7f0b-4d14-c211-772768c904d8"
      },
      "outputs": [
        {
          "output_type": "execute_result",
          "data": {
            "text/plain": [
              "Text(0, 0.5, 'TPR')"
            ]
          },
          "metadata": {},
          "execution_count": 61
        },
        {
          "output_type": "display_data",
          "data": {
            "image/png": "[encoded data removed]",
            "text/plain": [
              "<Figure size 432x288 with 1 Axes>"
            ]
          },
          "metadata": {
            "needs_background": "light"
          }
        }
      ],
      "source": [
        "#plotting\n",
        "from sklearn import metrics\n",
        "fpr, tpr, thresholds = metrics.roc_curve(test_y,y_pred2)\n",
        "\n",
        "plt.plot(fpr,tpr)\n",
        "plt.grid()\n",
        "plt.xlabel('FPR')\n",
        "plt.ylabel('TPR')\n"
      ]
    },
    {
      "cell_type": "code",
      "execution_count": null,
      "id": "26ec8972",
      "metadata": {
        "colab": {
          "base_uri": "https://localhost:8080/",
          "height": 296
        },
        "id": "26ec8972",
        "outputId": "10cbf3df-fb02-46b0-cba9-25cf1c86094c"
      },
      "outputs": [
        {
          "output_type": "execute_result",
          "data": {
            "text/plain": [
              "Text(0.5, 0, 'Threshold')"
            ]
          },
          "metadata": {},
          "execution_count": 62
        },
        {
          "output_type": "display_data",
          "data": {
            "image/png": "[encoded data removed]",
            "text/plain": [
              "<Figure size 432x288 with 1 Axes>"
            ]
          },
          "metadata": {
            "needs_background": "light"
          }
        }
      ],
      "source": [
        "#plotting\n",
        "plt.plot(thresholds,tpr, thresholds,fpr)\n",
        "plt.legend(['TPR','FPR'])\n",
        "plt.xlabel('Threshold')\n"
      ]
    },
    {
      "cell_type": "code",
      "execution_count": null,
      "id": "0850d164",
      "metadata": {
        "colab": {
          "base_uri": "https://localhost:8080/"
        },
        "id": "0850d164",
        "outputId": "533b59d0-e072-436d-e6f0-7b4f7a5615e2"
      },
      "outputs": [
        {
          "output_type": "stream",
          "name": "stdout",
          "text": [
            "AUC=0.814815\n"
          ]
        }
      ],
      "source": [
        "#area under the curve\n",
        "auc=metrics.roc_auc_score(test_y,y_pred2)\n",
        "print(\"AUC=%f\" % auc)"
      ]
    },
    {
      "cell_type": "markdown",
      "id": "c0def566",
      "metadata": {
        "id": "c0def566"
      },
      "source": [
        "#  3) NB classifier"
      ]
    },
    {
      "cell_type": "markdown",
      "source": [
        "*NO NEED FOR TUNING*"
      ],
      "metadata": {
        "id": "LRMkQ_KCe-lX"
      },
      "id": "LRMkQ_KCe-lX"
    },
    {
      "cell_type": "code",
      "execution_count": null,
      "id": "36b452c3",
      "metadata": {
        "id": "36b452c3",
        "outputId": "7126d0ae-24df-4dc4-8734-ee66543abae6",
        "colab": {
          "base_uri": "https://localhost:8080/"
        }
      },
      "outputs": [
        {
          "output_type": "execute_result",
          "data": {
            "text/plain": [
              "GaussianNB()"
            ]
          },
          "metadata": {},
          "execution_count": 65
        }
      ],
      "source": [
        "# Naïve Bayes classifier  Without tuninng\n",
        "from sklearn.naive_bayes import GaussianNB\n",
        "NB=GaussianNB()\n",
        "NB.fit(train_x,train_y)"
      ]
    },
    {
      "cell_type": "code",
      "execution_count": null,
      "id": "033f89be",
      "metadata": {
        "id": "033f89be"
      },
      "outputs": [],
      "source": [
        "#predict\n",
        "y_pred3=NB.predict(test_x)"
      ]
    },
    {
      "cell_type": "code",
      "execution_count": null,
      "id": "a8ad1553",
      "metadata": {
        "id": "a8ad1553",
        "outputId": "944ecd72-adfe-4aec-c20e-5931f9ec30a8",
        "colab": {
          "base_uri": "https://localhost:8080/"
        }
      },
      "outputs": [
        {
          "output_type": "stream",
          "name": "stdout",
          "text": [
            "Accuracy :  39.88 %\n",
            "Recall :  17.6 %\n",
            "Precision :  95.65 %\n",
            "F1 score :  29.73 %\n"
          ]
        }
      ],
      "source": [
        "#print metrics\n",
        "from sklearn.metrics import classification_report,accuracy_score,recall_score,precision_score,f1_score\n",
        "print(\"Accuracy : \", round(accuracy_score(y_pred3,test_y)*100,2),'%')\n",
        "print(\"Recall : \", round(recall_score(y_pred3,test_y)*100,2),'%')\n",
        "print(\"Precision : \", round(precision_score(y_pred3,test_y)*100,2),'%')\n",
        "print(\"F1 score : \", round(f1_score(y_pred3,test_y)*100,2),'%')"
      ]
    },
    {
      "cell_type": "code",
      "execution_count": null,
      "id": "0121f751",
      "metadata": {
        "id": "0121f751",
        "outputId": "2cdf056a-75b2-48de-a6fc-a47b6f66e536",
        "colab": {
          "base_uri": "https://localhost:8080/",
          "height": 296
        }
      },
      "outputs": [
        {
          "output_type": "execute_result",
          "data": {
            "text/plain": [
              "Text(0, 0.5, 'TPR')"
            ]
          },
          "metadata": {},
          "execution_count": 68
        },
        {
          "output_type": "display_data",
          "data": {
            "image/png": "[encoded data removed]",
            "text/plain": [
              "<Figure size 432x288 with 1 Axes>"
            ]
          },
          "metadata": {
            "needs_background": "light"
          }
        }
      ],
      "source": [
        "#plotting\n",
        "from sklearn import metrics\n",
        "fpr, tpr, thresholds = metrics.roc_curve(test_y,y_pred3)\n",
        "\n",
        "plt.plot(fpr,tpr)\n",
        "plt.grid()\n",
        "plt.xlabel('FPR')\n",
        "plt.ylabel('TPR')\n"
      ]
    },
    {
      "cell_type": "code",
      "execution_count": null,
      "id": "ce72e270",
      "metadata": {
        "id": "ce72e270",
        "outputId": "e9134bd8-7f3f-447f-d8e5-9154bd9e5344",
        "colab": {
          "base_uri": "https://localhost:8080/",
          "height": 296
        }
      },
      "outputs": [
        {
          "output_type": "execute_result",
          "data": {
            "text/plain": [
              "Text(0.5, 0, 'Threshold')"
            ]
          },
          "metadata": {},
          "execution_count": 69
        },
        {
          "output_type": "display_data",
          "data": {
            "image/png": "[encoded data removed]",
            "text/plain": [
              "<Figure size 432x288 with 1 Axes>"
            ]
          },
          "metadata": {
            "needs_background": "light"
          }
        }
      ],
      "source": [
        "#plotting\n",
        "plt.plot(thresholds,tpr, thresholds,fpr)\n",
        "plt.legend(['TPR','FPR'])\n",
        "plt.xlabel('Threshold')"
      ]
    },
    {
      "cell_type": "code",
      "execution_count": null,
      "id": "1222d5f5",
      "metadata": {
        "id": "1222d5f5",
        "outputId": "a30f31f6-b02e-4389-83aa-4708c61174a1",
        "colab": {
          "base_uri": "https://localhost:8080/"
        }
      },
      "outputs": [
        {
          "output_type": "stream",
          "name": "stdout",
          "text": [
            "AUC=0.634928\n"
          ]
        }
      ],
      "source": [
        "#area under the curve\n",
        "auc=metrics.roc_auc_score(test_y,y_pred3)\n",
        "print(\"AUC=%f\" % auc)"
      ]
    },
    {
      "cell_type": "markdown",
      "id": "78b9b781",
      "metadata": {
        "id": "78b9b781"
      },
      "source": [
        "# 4) DT classifier"
      ]
    },
    {
      "cell_type": "code",
      "source": [
        "#Grid parameters for tuning\n",
        "param_grid = {'criterion': ['gini', 'entropy'],\n",
        "             'splitter': ['best', 'random'],\n",
        "             'max_depth': [1,2,3,4,5,6,7,8,9, 10, 25, 40, 50],\n",
        "             'min_samples_split': [1,2,3,4,5,6,7,8,9, 10, 25, 50, 50],\n",
        "             'min_samples_leaf': [1,3,4,5,6,7,8,9, 10, 25, 50, 50],\n",
        "             'max_features': ['auto', 'log2', None,'sqrt']\n",
        "}"
      ],
      "metadata": {
        "id": "-9pKtx95grTq"
      },
      "id": "-9pKtx95grTq",
      "execution_count": null,
      "outputs": []
    },
    {
      "cell_type": "code",
      "source": [
        "# DecisionTreeClassifier MODEL\n",
        "model4=DecisionTreeClassifier()"
      ],
      "metadata": {
        "id": "svKcfyTrhDXt"
      },
      "id": "svKcfyTrhDXt",
      "execution_count": null,
      "outputs": []
    },
    {
      "cell_type": "code",
      "source": [
        "#Define Grid search\n",
        "clf = GridSearchCV(model4, param_grid = param_grid, cv = 4, verbose=True, n_jobs=-1)"
      ],
      "metadata": {
        "id": "7XMvamy2grbX"
      },
      "id": "7XMvamy2grbX",
      "execution_count": null,
      "outputs": []
    },
    {
      "cell_type": "code",
      "source": [
        "#Fit Gridsearch\n",
        "g_res = clf.fit(train_valid_x,train_valid_y)"
      ],
      "metadata": {
        "colab": {
          "base_uri": "https://localhost:8080/"
        },
        "id": "iAzu9t-Igrdw",
        "outputId": "5485465e-631e-467e-fc6e-1e2c8195d35c"
      },
      "id": "iAzu9t-Igrdw",
      "execution_count": null,
      "outputs": [
        {
          "output_type": "stream",
          "name": "stdout",
          "text": [
            "Fitting 4 folds for each of 32448 candidates, totalling 129792 fits\n"
          ]
        },
        {
          "output_type": "stream",
          "name": "stderr",
          "text": [
            "/usr/local/lib/python3.7/dist-packages/sklearn/model_selection/_validation.py:372: FitFailedWarning: \n",
            "9984 fits failed out of a total of 129792.\n",
            "The score on these train-test partitions for these parameters will be set to nan.\n",
            "If these failures are not expected, you can try to debug them by setting error_score='raise'.\n",
            "\n",
            "Below are more details about the failures:\n",
            "--------------------------------------------------------------------------------\n",
            "9984 fits failed with the following error:\n",
            "Traceback (most recent call last):\n",
            "  File \"/usr/local/lib/python3.7/dist-packages/sklearn/model_selection/_validation.py\", line 681, in _fit_and_score\n",
            "    estimator.fit(X_train, y_train, **fit_params)\n",
            "  File \"/usr/local/lib/python3.7/dist-packages/sklearn/tree/_classes.py\", line 942, in fit\n",
            "    X_idx_sorted=X_idx_sorted,\n",
            "  File \"/usr/local/lib/python3.7/dist-packages/sklearn/tree/_classes.py\", line 254, in fit\n",
            "    % self.min_samples_split\n",
            "ValueError: min_samples_split must be an integer greater than 1 or a float in (0.0, 1.0]; got the integer 1\n",
            "\n",
            "  warnings.warn(some_fits_failed_message, FitFailedWarning)\n",
            "/usr/local/lib/python3.7/dist-packages/sklearn/model_selection/_search.py:972: UserWarning: One or more of the test scores are non-finite: [       nan        nan 0.88586957 ... 0.88768116 0.89311594 0.875     ]\n",
            "  category=UserWarning,\n"
          ]
        }
      ]
    },
    {
      "cell_type": "code",
      "source": [
        "#Best Parameters \n",
        "g_res.best_params_"
      ],
      "metadata": {
        "colab": {
          "base_uri": "https://localhost:8080/"
        },
        "id": "UuySnF7Pgrg5",
        "outputId": "fb4ae9ac-ce0e-49ae-eb29-5121a2b871b1"
      },
      "id": "UuySnF7Pgrg5",
      "execution_count": null,
      "outputs": [
        {
          "output_type": "execute_result",
          "data": {
            "text/plain": [
              "{'criterion': 'gini',\n",
              " 'max_depth': 8,\n",
              " 'max_features': None,\n",
              " 'min_samples_leaf': 1,\n",
              " 'min_samples_split': 2,\n",
              " 'splitter': 'best'}"
            ]
          },
          "metadata": {},
          "execution_count": 132
        }
      ]
    },
    {
      "cell_type": "markdown",
      "source": [
        "Decision tree (After Tuning parameters)"
      ],
      "metadata": {
        "id": "LFZk6sHLVKEq"
      },
      "id": "LFZk6sHLVKEq"
    },
    {
      "cell_type": "code",
      "execution_count": null,
      "id": "94835bf3",
      "metadata": {
        "id": "94835bf3",
        "outputId": "ba8e2241-37d7-4c8d-9d8c-456423ea1f7f",
        "colab": {
          "base_uri": "https://localhost:8080/"
        }
      },
      "outputs": [
        {
          "output_type": "execute_result",
          "data": {
            "text/plain": [
              "DecisionTreeClassifier(max_depth=8)"
            ]
          },
          "metadata": {},
          "execution_count": 133
        }
      ],
      "source": [
        "# Decision tree\n",
        "model4=DecisionTreeClassifier(criterion=\"gini\" ,max_depth= 8 , max_features=None , min_samples_split=2,min_samples_leaf= 1,splitter= 'best')\n",
        "model4.fit(train_x,train_y)"
      ]
    },
    {
      "cell_type": "code",
      "execution_count": null,
      "id": "9d801fb5",
      "metadata": {
        "id": "9d801fb5"
      },
      "outputs": [],
      "source": [
        "#prediction\n",
        "y_pred4=model4.predict(test_x)"
      ]
    },
    {
      "cell_type": "code",
      "execution_count": null,
      "id": "d56eaee4",
      "metadata": {
        "id": "d56eaee4",
        "outputId": "09a9bc0d-e2c0-408a-c204-d682d7d59288",
        "colab": {
          "base_uri": "https://localhost:8080/"
        }
      },
      "outputs": [
        {
          "output_type": "stream",
          "name": "stdout",
          "text": [
            "Accuracy :  97.69 %\n",
            "Recall :  95.24 %\n",
            "Precision :  86.96 %\n",
            "F1 score :  90.91 %\n"
          ]
        }
      ],
      "source": [
        "#print metrics\n",
        "print(\"Accuracy : \", round(accuracy_score(y_pred4,test_y)*100,2),'%')\n",
        "print(\"Recall : \", round(recall_score(y_pred4,test_y)*100,2),'%')\n",
        "print(\"Precision : \", round(precision_score(y_pred4,test_y)*100,2),'%')\n",
        "print(\"F1 score : \", round(f1_score(y_pred4,test_y)*100,2),'%')"
      ]
    },
    {
      "cell_type": "code",
      "execution_count": null,
      "id": "896d7bf4",
      "metadata": {
        "id": "896d7bf4",
        "outputId": "8dd408aa-28d5-48e7-fdd5-6564f6a6963f",
        "colab": {
          "base_uri": "https://localhost:8080/",
          "height": 296
        }
      },
      "outputs": [
        {
          "output_type": "execute_result",
          "data": {
            "text/plain": [
              "Text(0, 0.5, 'TPR')"
            ]
          },
          "metadata": {},
          "execution_count": 136
        },
        {
          "output_type": "display_data",
          "data": {
            "image/png": "[encoded data removed]",
            "text/plain": [
              "<Figure size 432x288 with 1 Axes>"
            ]
          },
          "metadata": {
            "needs_background": "light"
          }
        }
      ],
      "source": [
        "#plotting\n",
        "from sklearn import metrics\n",
        "fpr, tpr, thresholds = metrics.roc_curve(test_y,y_pred4)\n",
        "\n",
        "plt.plot(fpr,tpr)\n",
        "plt.grid()\n",
        "plt.xlabel('FPR')\n",
        "plt.ylabel('TPR')\n"
      ]
    },
    {
      "cell_type": "code",
      "execution_count": null,
      "id": "8e4182d3",
      "metadata": {
        "id": "8e4182d3",
        "outputId": "ff386fb0-4b16-4ebd-d53e-d5035a66b209",
        "colab": {
          "base_uri": "https://localhost:8080/",
          "height": 296
        }
      },
      "outputs": [
        {
          "output_type": "execute_result",
          "data": {
            "text/plain": [
              "Text(0.5, 0, 'Threshold')"
            ]
          },
          "metadata": {},
          "execution_count": 137
        },
        {
          "output_type": "display_data",
          "data": {
            "image/png": "[encoded data removed]",
            "text/plain": [
              "<Figure size 432x288 with 1 Axes>"
            ]
          },
          "metadata": {
            "needs_background": "light"
          }
        }
      ],
      "source": [
        "#plotting\n",
        "plt.plot(thresholds,tpr, thresholds,fpr)\n",
        "plt.legend(['TPR','FPR'])\n",
        "plt.xlabel('Threshold')\n"
      ]
    },
    {
      "cell_type": "code",
      "execution_count": null,
      "id": "c329d7b8",
      "metadata": {
        "id": "c329d7b8",
        "outputId": "82aca3f2-8423-405c-eeb1-a38d7e0d20f0",
        "colab": {
          "base_uri": "https://localhost:8080/"
        }
      },
      "outputs": [
        {
          "output_type": "stream",
          "name": "stdout",
          "text": [
            "AUC=0.931449\n"
          ]
        }
      ],
      "source": [
        "#area under the curve\n",
        "auc=metrics.roc_auc_score(test_y,y_pred4)\n",
        "print(\"AUC=%f\" % auc)"
      ]
    },
    {
      "cell_type": "markdown",
      "id": "bf044126",
      "metadata": {
        "id": "bf044126"
      },
      "source": [
        "# 5) SVM classifier"
      ]
    },
    {
      "cell_type": "code",
      "source": [
        "# defining parameter range\n",
        "model5=SVC()\n",
        "param_grid = {'C': [0.1, 1, 10, 100, 1000],\n",
        "              'gamma': [1, 0.1, 0.01, 0.001, 0.0001],\n",
        "              'kernel': ['rbf','linear', 'poly','sigmoid'],\n",
        "              'degree': [1,2,3],\n",
        "              }\n",
        " \n",
        "grid = GridSearchCV(model5, param_grid, cv = 2, refit = True, verbose = 3)\n",
        " \n",
        "\n"
      ],
      "metadata": {
        "id": "QvFCP7bvqfJL"
      },
      "id": "QvFCP7bvqfJL",
      "execution_count": null,
      "outputs": []
    },
    {
      "cell_type": "code",
      "source": [
        "#Fit Gridsearch\n",
        "g_res = grid.fit(train_valid_x,train_valid_y)"
      ],
      "metadata": {
        "colab": {
          "base_uri": "https://localhost:8080/"
        },
        "id": "LtuZ_a0WqfLo",
        "outputId": "546f2430-a46d-4bea-cf72-6472fa2ea2a7"
      },
      "id": "LtuZ_a0WqfLo",
      "execution_count": null,
      "outputs": [
        {
          "output_type": "stream",
          "name": "stdout",
          "text": [
            "Fitting 2 folds for each of 300 candidates, totalling 600 fits\n",
            "[CV 1/2] END C=0.1, degree=1, gamma=1, kernel=rbf;, score=0.877 total time=   0.0s\n",
            "[CV 2/2] END C=0.1, degree=1, gamma=1, kernel=rbf;, score=0.873 total time=   0.0s\n",
            "[CV 1/2] END C=0.1, degree=1, gamma=1, kernel=linear;, score=0.946 total time=   0.0s\n",
            "[CV 2/2] END C=0.1, degree=1, gamma=1, kernel=linear;, score=0.909 total time=   0.0s\n",
            "[CV 1/2] END C=0.1, degree=1, gamma=1, kernel=poly;, score=0.946 total time=   0.0s\n",
            "[CV 2/2] END C=0.1, degree=1, gamma=1, kernel=poly;, score=0.909 total time=   0.0s\n",
            "[CV 1/2] END C=0.1, degree=1, gamma=1, kernel=sigmoid;, score=0.877 total time=   0.0s\n",
            "[CV 2/2] END C=0.1, degree=1, gamma=1, kernel=sigmoid;, score=0.873 total time=   0.0s\n",
            "[CV 1/2] END C=0.1, degree=1, gamma=0.1, kernel=rbf;, score=0.877 total time=   0.0s\n",
            "[CV 2/2] END C=0.1, degree=1, gamma=0.1, kernel=rbf;, score=0.873 total time=   0.0s\n",
            "[CV 1/2] END C=0.1, degree=1, gamma=0.1, kernel=linear;, score=0.946 total time=   0.0s\n",
            "[CV 2/2] END C=0.1, degree=1, gamma=0.1, kernel=linear;, score=0.909 total time=   0.0s\n",
            "[CV 1/2] END C=0.1, degree=1, gamma=0.1, kernel=poly;, score=0.946 total time=   0.0s\n",
            "[CV 2/2] END C=0.1, degree=1, gamma=0.1, kernel=poly;, score=0.899 total time=   0.0s\n",
            "[CV 1/2] END C=0.1, degree=1, gamma=0.1, kernel=sigmoid;, score=0.877 total time=   0.0s\n",
            "[CV 2/2] END C=0.1, degree=1, gamma=0.1, kernel=sigmoid;, score=0.873 total time=   0.0s\n",
            "[CV 1/2] END C=0.1, degree=1, gamma=0.01, kernel=rbf;, score=0.877 total time=   0.0s\n",
            "[CV 2/2] END C=0.1, degree=1, gamma=0.01, kernel=rbf;, score=0.873 total time=   0.0s\n",
            "[CV 1/2] END C=0.1, degree=1, gamma=0.01, kernel=linear;, score=0.946 total time=   0.0s\n",
            "[CV 2/2] END C=0.1, degree=1, gamma=0.01, kernel=linear;, score=0.909 total time=   0.0s\n",
            "[CV 1/2] END C=0.1, degree=1, gamma=0.01, kernel=poly;, score=0.949 total time=   0.0s\n",
            "[CV 2/2] END C=0.1, degree=1, gamma=0.01, kernel=poly;, score=0.909 total time=   0.0s\n",
            "[CV 1/2] END C=0.1, degree=1, gamma=0.01, kernel=sigmoid;, score=0.877 total time=   0.0s\n",
            "[CV 2/2] END C=0.1, degree=1, gamma=0.01, kernel=sigmoid;, score=0.873 total time=   0.0s\n",
            "[CV 1/2] END C=0.1, degree=1, gamma=0.001, kernel=rbf;, score=0.877 total time=   0.0s\n",
            "[CV 2/2] END C=0.1, degree=1, gamma=0.001, kernel=rbf;, score=0.873 total time=   0.0s\n",
            "[CV 1/2] END C=0.1, degree=1, gamma=0.001, kernel=linear;, score=0.946 total time=   0.0s\n",
            "[CV 2/2] END C=0.1, degree=1, gamma=0.001, kernel=linear;, score=0.909 total time=   0.0s\n",
            "[CV 1/2] END C=0.1, degree=1, gamma=0.001, kernel=poly;, score=0.877 total time=   0.0s\n",
            "[CV 2/2] END C=0.1, degree=1, gamma=0.001, kernel=poly;, score=0.877 total time=   0.0s\n",
            "[CV 1/2] END C=0.1, degree=1, gamma=0.001, kernel=sigmoid;, score=0.877 total time=   0.0s\n",
            "[CV 2/2] END C=0.1, degree=1, gamma=0.001, kernel=sigmoid;, score=0.873 total time=   0.0s\n",
            "[CV 1/2] END C=0.1, degree=1, gamma=0.0001, kernel=rbf;, score=0.877 total time=   0.0s\n",
            "[CV 2/2] END C=0.1, degree=1, gamma=0.0001, kernel=rbf;, score=0.873 total time=   0.0s\n",
            "[CV 1/2] END C=0.1, degree=1, gamma=0.0001, kernel=linear;, score=0.946 total time=   0.0s\n",
            "[CV 2/2] END C=0.1, degree=1, gamma=0.0001, kernel=linear;, score=0.909 total time=   0.0s\n",
            "[CV 1/2] END C=0.1, degree=1, gamma=0.0001, kernel=poly;, score=0.877 total time=   0.0s\n",
            "[CV 2/2] END C=0.1, degree=1, gamma=0.0001, kernel=poly;, score=0.873 total time=   0.0s\n",
            "[CV 1/2] END C=0.1, degree=1, gamma=0.0001, kernel=sigmoid;, score=0.877 total time=   0.0s\n",
            "[CV 2/2] END C=0.1, degree=1, gamma=0.0001, kernel=sigmoid;, score=0.873 total time=   0.0s\n",
            "[CV 1/2] END C=0.1, degree=2, gamma=1, kernel=rbf;, score=0.877 total time=   0.0s\n",
            "[CV 2/2] END C=0.1, degree=2, gamma=1, kernel=rbf;, score=0.873 total time=   0.0s\n",
            "[CV 1/2] END C=0.1, degree=2, gamma=1, kernel=linear;, score=0.946 total time=   0.0s\n",
            "[CV 2/2] END C=0.1, degree=2, gamma=1, kernel=linear;, score=0.909 total time=   0.0s\n",
            "[CV 1/2] END C=0.1, degree=2, gamma=1, kernel=poly;, score=0.913 total time=   1.2s\n",
            "[CV 2/2] END C=0.1, degree=2, gamma=1, kernel=poly;, score=0.946 total time=   0.3s\n",
            "[CV 1/2] END C=0.1, degree=2, gamma=1, kernel=sigmoid;, score=0.877 total time=   0.0s\n",
            "[CV 2/2] END C=0.1, degree=2, gamma=1, kernel=sigmoid;, score=0.873 total time=   0.0s\n",
            "[CV 1/2] END C=0.1, degree=2, gamma=0.1, kernel=rbf;, score=0.877 total time=   0.0s\n",
            "[CV 2/2] END C=0.1, degree=2, gamma=0.1, kernel=rbf;, score=0.873 total time=   0.0s\n",
            "[CV 1/2] END C=0.1, degree=2, gamma=0.1, kernel=linear;, score=0.946 total time=   0.0s\n",
            "[CV 2/2] END C=0.1, degree=2, gamma=0.1, kernel=linear;, score=0.909 total time=   0.0s\n",
            "[CV 1/2] END C=0.1, degree=2, gamma=0.1, kernel=poly;, score=0.938 total time=   0.2s\n",
            "[CV 2/2] END C=0.1, degree=2, gamma=0.1, kernel=poly;, score=0.942 total time=   0.3s\n",
            "[CV 1/2] END C=0.1, degree=2, gamma=0.1, kernel=sigmoid;, score=0.877 total time=   0.0s\n",
            "[CV 2/2] END C=0.1, degree=2, gamma=0.1, kernel=sigmoid;, score=0.873 total time=   0.0s\n",
            "[CV 1/2] END C=0.1, degree=2, gamma=0.01, kernel=rbf;, score=0.877 total time=   0.0s\n",
            "[CV 2/2] END C=0.1, degree=2, gamma=0.01, kernel=rbf;, score=0.873 total time=   0.0s\n",
            "[CV 1/2] END C=0.1, degree=2, gamma=0.01, kernel=linear;, score=0.946 total time=   0.0s\n",
            "[CV 2/2] END C=0.1, degree=2, gamma=0.01, kernel=linear;, score=0.909 total time=   0.0s\n",
            "[CV 1/2] END C=0.1, degree=2, gamma=0.01, kernel=poly;, score=0.960 total time=   0.0s\n",
            "[CV 2/2] END C=0.1, degree=2, gamma=0.01, kernel=poly;, score=0.942 total time=   0.0s\n",
            "[CV 1/2] END C=0.1, degree=2, gamma=0.01, kernel=sigmoid;, score=0.877 total time=   0.0s\n",
            "[CV 2/2] END C=0.1, degree=2, gamma=0.01, kernel=sigmoid;, score=0.873 total time=   0.0s\n",
            "[CV 1/2] END C=0.1, degree=2, gamma=0.001, kernel=rbf;, score=0.877 total time=   0.0s\n",
            "[CV 2/2] END C=0.1, degree=2, gamma=0.001, kernel=rbf;, score=0.873 total time=   0.0s\n",
            "[CV 1/2] END C=0.1, degree=2, gamma=0.001, kernel=linear;, score=0.946 total time=   0.0s\n",
            "[CV 2/2] END C=0.1, degree=2, gamma=0.001, kernel=linear;, score=0.909 total time=   0.0s\n",
            "[CV 1/2] END C=0.1, degree=2, gamma=0.001, kernel=poly;, score=0.953 total time=   0.0s\n",
            "[CV 2/2] END C=0.1, degree=2, gamma=0.001, kernel=poly;, score=0.917 total time=   0.0s\n",
            "[CV 1/2] END C=0.1, degree=2, gamma=0.001, kernel=sigmoid;, score=0.877 total time=   0.0s\n",
            "[CV 2/2] END C=0.1, degree=2, gamma=0.001, kernel=sigmoid;, score=0.873 total time=   0.0s\n",
            "[CV 1/2] END C=0.1, degree=2, gamma=0.0001, kernel=rbf;, score=0.877 total time=   0.0s\n",
            "[CV 2/2] END C=0.1, degree=2, gamma=0.0001, kernel=rbf;, score=0.873 total time=   0.0s\n",
            "[CV 1/2] END C=0.1, degree=2, gamma=0.0001, kernel=linear;, score=0.946 total time=   0.0s\n",
            "[CV 2/2] END C=0.1, degree=2, gamma=0.0001, kernel=linear;, score=0.909 total time=   0.0s\n",
            "[CV 1/2] END C=0.1, degree=2, gamma=0.0001, kernel=poly;, score=0.877 total time=   0.0s\n",
            "[CV 2/2] END C=0.1, degree=2, gamma=0.0001, kernel=poly;, score=0.873 total time=   0.0s\n",
            "[CV 1/2] END C=0.1, degree=2, gamma=0.0001, kernel=sigmoid;, score=0.877 total time=   0.0s\n",
            "[CV 2/2] END C=0.1, degree=2, gamma=0.0001, kernel=sigmoid;, score=0.873 total time=   0.0s\n",
            "[CV 1/2] END C=0.1, degree=3, gamma=1, kernel=rbf;, score=0.877 total time=   0.0s\n",
            "[CV 2/2] END C=0.1, degree=3, gamma=1, kernel=rbf;, score=0.873 total time=   0.0s\n",
            "[CV 1/2] END C=0.1, degree=3, gamma=1, kernel=linear;, score=0.946 total time=   0.0s\n",
            "[CV 2/2] END C=0.1, degree=3, gamma=1, kernel=linear;, score=0.909 total time=   0.0s\n",
            "[CV 1/2] END C=0.1, degree=3, gamma=1, kernel=poly;, score=0.949 total time=   0.1s\n",
            "[CV 2/2] END C=0.1, degree=3, gamma=1, kernel=poly;, score=0.946 total time=   0.1s\n",
            "[CV 1/2] END C=0.1, degree=3, gamma=1, kernel=sigmoid;, score=0.877 total time=   0.0s\n",
            "[CV 2/2] END C=0.1, degree=3, gamma=1, kernel=sigmoid;, score=0.873 total time=   0.0s\n",
            "[CV 1/2] END C=0.1, degree=3, gamma=0.1, kernel=rbf;, score=0.877 total time=   0.0s\n",
            "[CV 2/2] END C=0.1, degree=3, gamma=0.1, kernel=rbf;, score=0.873 total time=   0.0s\n",
            "[CV 1/2] END C=0.1, degree=3, gamma=0.1, kernel=linear;, score=0.946 total time=   0.0s\n",
            "[CV 2/2] END C=0.1, degree=3, gamma=0.1, kernel=linear;, score=0.909 total time=   0.0s\n",
            "[CV 1/2] END C=0.1, degree=3, gamma=0.1, kernel=poly;, score=0.949 total time=   0.2s\n",
            "[CV 2/2] END C=0.1, degree=3, gamma=0.1, kernel=poly;, score=0.946 total time=   0.1s\n",
            "[CV 1/2] END C=0.1, degree=3, gamma=0.1, kernel=sigmoid;, score=0.877 total time=   0.0s\n",
            "[CV 2/2] END C=0.1, degree=3, gamma=0.1, kernel=sigmoid;, score=0.873 total time=   0.0s\n",
            "[CV 1/2] END C=0.1, degree=3, gamma=0.01, kernel=rbf;, score=0.877 total time=   0.0s\n",
            "[CV 2/2] END C=0.1, degree=3, gamma=0.01, kernel=rbf;, score=0.873 total time=   0.0s\n",
            "[CV 1/2] END C=0.1, degree=3, gamma=0.01, kernel=linear;, score=0.946 total time=   0.0s\n",
            "[CV 2/2] END C=0.1, degree=3, gamma=0.01, kernel=linear;, score=0.909 total time=   0.0s\n",
            "[CV 1/2] END C=0.1, degree=3, gamma=0.01, kernel=poly;, score=0.949 total time=   0.1s\n",
            "[CV 2/2] END C=0.1, degree=3, gamma=0.01, kernel=poly;, score=0.946 total time=   0.1s\n",
            "[CV 1/2] END C=0.1, degree=3, gamma=0.01, kernel=sigmoid;, score=0.877 total time=   0.0s\n",
            "[CV 2/2] END C=0.1, degree=3, gamma=0.01, kernel=sigmoid;, score=0.873 total time=   0.0s\n",
            "[CV 1/2] END C=0.1, degree=3, gamma=0.001, kernel=rbf;, score=0.877 total time=   0.0s\n",
            "[CV 2/2] END C=0.1, degree=3, gamma=0.001, kernel=rbf;, score=0.873 total time=   0.0s\n",
            "[CV 1/2] END C=0.1, degree=3, gamma=0.001, kernel=linear;, score=0.946 total time=   0.0s\n",
            "[CV 2/2] END C=0.1, degree=3, gamma=0.001, kernel=linear;, score=0.909 total time=   0.0s\n",
            "[CV 1/2] END C=0.1, degree=3, gamma=0.001, kernel=poly;, score=0.953 total time=   0.0s\n",
            "[CV 2/2] END C=0.1, degree=3, gamma=0.001, kernel=poly;, score=0.924 total time=   0.0s\n",
            "[CV 1/2] END C=0.1, degree=3, gamma=0.001, kernel=sigmoid;, score=0.877 total time=   0.0s\n",
            "[CV 2/2] END C=0.1, degree=3, gamma=0.001, kernel=sigmoid;, score=0.873 total time=   0.0s\n",
            "[CV 1/2] END C=0.1, degree=3, gamma=0.0001, kernel=rbf;, score=0.877 total time=   0.0s\n",
            "[CV 2/2] END C=0.1, degree=3, gamma=0.0001, kernel=rbf;, score=0.873 total time=   0.0s\n",
            "[CV 1/2] END C=0.1, degree=3, gamma=0.0001, kernel=linear;, score=0.946 total time=   0.0s\n",
            "[CV 2/2] END C=0.1, degree=3, gamma=0.0001, kernel=linear;, score=0.909 total time=   0.0s\n",
            "[CV 1/2] END C=0.1, degree=3, gamma=0.0001, kernel=poly;, score=0.877 total time=   0.0s\n",
            "[CV 2/2] END C=0.1, degree=3, gamma=0.0001, kernel=poly;, score=0.877 total time=   0.0s\n",
            "[CV 1/2] END C=0.1, degree=3, gamma=0.0001, kernel=sigmoid;, score=0.877 total time=   0.0s\n",
            "[CV 2/2] END C=0.1, degree=3, gamma=0.0001, kernel=sigmoid;, score=0.873 total time=   0.0s\n",
            "[CV 1/2] END C=1, degree=1, gamma=1, kernel=rbf;, score=0.880 total time=   0.0s\n",
            "[CV 2/2] END C=1, degree=1, gamma=1, kernel=rbf;, score=0.877 total time=   0.0s\n",
            "[CV 1/2] END C=1, degree=1, gamma=1, kernel=linear;, score=0.960 total time=   0.1s\n",
            "[CV 2/2] END C=1, degree=1, gamma=1, kernel=linear;, score=0.931 total time=   0.0s\n",
            "[CV 1/2] END C=1, degree=1, gamma=1, kernel=poly;, score=0.960 total time=   0.1s\n",
            "[CV 2/2] END C=1, degree=1, gamma=1, kernel=poly;, score=0.931 total time=   0.0s\n",
            "[CV 1/2] END C=1, degree=1, gamma=1, kernel=sigmoid;, score=0.877 total time=   0.0s\n",
            "[CV 2/2] END C=1, degree=1, gamma=1, kernel=sigmoid;, score=0.873 total time=   0.0s\n",
            "[CV 1/2] END C=1, degree=1, gamma=0.1, kernel=rbf;, score=0.891 total time=   0.0s\n",
            "[CV 2/2] END C=1, degree=1, gamma=0.1, kernel=rbf;, score=0.888 total time=   0.0s\n",
            "[CV 1/2] END C=1, degree=1, gamma=0.1, kernel=linear;, score=0.960 total time=   0.1s\n",
            "[CV 2/2] END C=1, degree=1, gamma=0.1, kernel=linear;, score=0.931 total time=   0.0s\n",
            "[CV 1/2] END C=1, degree=1, gamma=0.1, kernel=poly;, score=0.946 total time=   0.0s\n",
            "[CV 2/2] END C=1, degree=1, gamma=0.1, kernel=poly;, score=0.909 total time=   0.0s\n",
            "[CV 1/2] END C=1, degree=1, gamma=0.1, kernel=sigmoid;, score=0.877 total time=   0.0s\n",
            "[CV 2/2] END C=1, degree=1, gamma=0.1, kernel=sigmoid;, score=0.873 total time=   0.0s\n",
            "[CV 1/2] END C=1, degree=1, gamma=0.01, kernel=rbf;, score=0.888 total time=   0.0s\n",
            "[CV 2/2] END C=1, degree=1, gamma=0.01, kernel=rbf;, score=0.909 total time=   0.0s\n",
            "[CV 1/2] END C=1, degree=1, gamma=0.01, kernel=linear;, score=0.960 total time=   0.1s\n",
            "[CV 2/2] END C=1, degree=1, gamma=0.01, kernel=linear;, score=0.931 total time=   0.0s\n",
            "[CV 1/2] END C=1, degree=1, gamma=0.01, kernel=poly;, score=0.946 total time=   0.0s\n",
            "[CV 2/2] END C=1, degree=1, gamma=0.01, kernel=poly;, score=0.899 total time=   0.0s\n",
            "[CV 1/2] END C=1, degree=1, gamma=0.01, kernel=sigmoid;, score=0.877 total time=   0.0s\n",
            "[CV 2/2] END C=1, degree=1, gamma=0.01, kernel=sigmoid;, score=0.873 total time=   0.0s\n",
            "[CV 1/2] END C=1, degree=1, gamma=0.001, kernel=rbf;, score=0.931 total time=   0.0s\n",
            "[CV 2/2] END C=1, degree=1, gamma=0.001, kernel=rbf;, score=0.920 total time=   0.0s\n",
            "[CV 1/2] END C=1, degree=1, gamma=0.001, kernel=linear;, score=0.960 total time=   0.1s\n",
            "[CV 2/2] END C=1, degree=1, gamma=0.001, kernel=linear;, score=0.931 total time=   0.0s\n",
            "[CV 1/2] END C=1, degree=1, gamma=0.001, kernel=poly;, score=0.949 total time=   0.0s\n",
            "[CV 2/2] END C=1, degree=1, gamma=0.001, kernel=poly;, score=0.909 total time=   0.0s\n",
            "[CV 1/2] END C=1, degree=1, gamma=0.001, kernel=sigmoid;, score=0.877 total time=   0.0s\n",
            "[CV 2/2] END C=1, degree=1, gamma=0.001, kernel=sigmoid;, score=0.870 total time=   0.0s\n",
            "[CV 1/2] END C=1, degree=1, gamma=0.0001, kernel=rbf;, score=0.877 total time=   0.0s\n",
            "[CV 2/2] END C=1, degree=1, gamma=0.0001, kernel=rbf;, score=0.902 total time=   0.0s\n",
            "[CV 1/2] END C=1, degree=1, gamma=0.0001, kernel=linear;, score=0.960 total time=   0.1s\n",
            "[CV 2/2] END C=1, degree=1, gamma=0.0001, kernel=linear;, score=0.931 total time=   0.0s\n",
            "[CV 1/2] END C=1, degree=1, gamma=0.0001, kernel=poly;, score=0.877 total time=   0.0s\n",
            "[CV 2/2] END C=1, degree=1, gamma=0.0001, kernel=poly;, score=0.877 total time=   0.0s\n",
            "[CV 1/2] END C=1, degree=1, gamma=0.0001, kernel=sigmoid;, score=0.877 total time=   0.0s\n",
            "[CV 2/2] END C=1, degree=1, gamma=0.0001, kernel=sigmoid;, score=0.873 total time=   0.0s\n",
            "[CV 1/2] END C=1, degree=2, gamma=1, kernel=rbf;, score=0.880 total time=   0.0s\n",
            "[CV 2/2] END C=1, degree=2, gamma=1, kernel=rbf;, score=0.877 total time=   0.0s\n",
            "[CV 1/2] END C=1, degree=2, gamma=1, kernel=linear;, score=0.960 total time=   0.1s\n",
            "[CV 2/2] END C=1, degree=2, gamma=1, kernel=linear;, score=0.931 total time=   0.0s\n",
            "[CV 1/2] END C=1, degree=2, gamma=1, kernel=poly;, score=0.913 total time=   1.2s\n",
            "[CV 2/2] END C=1, degree=2, gamma=1, kernel=poly;, score=0.946 total time=   0.3s\n",
            "[CV 1/2] END C=1, degree=2, gamma=1, kernel=sigmoid;, score=0.877 total time=   0.0s\n",
            "[CV 2/2] END C=1, degree=2, gamma=1, kernel=sigmoid;, score=0.873 total time=   0.0s\n",
            "[CV 1/2] END C=1, degree=2, gamma=0.1, kernel=rbf;, score=0.891 total time=   0.0s\n",
            "[CV 2/2] END C=1, degree=2, gamma=0.1, kernel=rbf;, score=0.888 total time=   0.0s\n",
            "[CV 1/2] END C=1, degree=2, gamma=0.1, kernel=linear;, score=0.960 total time=   0.1s\n",
            "[CV 2/2] END C=1, degree=2, gamma=0.1, kernel=linear;, score=0.931 total time=   0.0s\n",
            "[CV 1/2] END C=1, degree=2, gamma=0.1, kernel=poly;, score=0.913 total time=   1.3s\n",
            "[CV 2/2] END C=1, degree=2, gamma=0.1, kernel=poly;, score=0.946 total time=   0.3s\n",
            "[CV 1/2] END C=1, degree=2, gamma=0.1, kernel=sigmoid;, score=0.877 total time=   0.0s\n",
            "[CV 2/2] END C=1, degree=2, gamma=0.1, kernel=sigmoid;, score=0.873 total time=   0.0s\n",
            "[CV 1/2] END C=1, degree=2, gamma=0.01, kernel=rbf;, score=0.888 total time=   0.0s\n",
            "[CV 2/2] END C=1, degree=2, gamma=0.01, kernel=rbf;, score=0.909 total time=   0.0s\n",
            "[CV 1/2] END C=1, degree=2, gamma=0.01, kernel=linear;, score=0.960 total time=   0.1s\n",
            "[CV 2/2] END C=1, degree=2, gamma=0.01, kernel=linear;, score=0.931 total time=   0.0s\n",
            "[CV 1/2] END C=1, degree=2, gamma=0.01, kernel=poly;, score=0.957 total time=   0.1s\n",
            "[CV 2/2] END C=1, degree=2, gamma=0.01, kernel=poly;, score=0.949 total time=   0.0s\n",
            "[CV 1/2] END C=1, degree=2, gamma=0.01, kernel=sigmoid;, score=0.877 total time=   0.0s\n",
            "[CV 2/2] END C=1, degree=2, gamma=0.01, kernel=sigmoid;, score=0.873 total time=   0.0s\n",
            "[CV 1/2] END C=1, degree=2, gamma=0.001, kernel=rbf;, score=0.931 total time=   0.0s\n",
            "[CV 2/2] END C=1, degree=2, gamma=0.001, kernel=rbf;, score=0.920 total time=   0.0s\n",
            "[CV 1/2] END C=1, degree=2, gamma=0.001, kernel=linear;, score=0.960 total time=   0.1s\n",
            "[CV 2/2] END C=1, degree=2, gamma=0.001, kernel=linear;, score=0.931 total time=   0.0s\n",
            "[CV 1/2] END C=1, degree=2, gamma=0.001, kernel=poly;, score=0.942 total time=   0.0s\n",
            "[CV 2/2] END C=1, degree=2, gamma=0.001, kernel=poly;, score=0.920 total time=   0.0s\n",
            "[CV 1/2] END C=1, degree=2, gamma=0.001, kernel=sigmoid;, score=0.877 total time=   0.0s\n",
            "[CV 2/2] END C=1, degree=2, gamma=0.001, kernel=sigmoid;, score=0.870 total time=   0.0s\n",
            "[CV 1/2] END C=1, degree=2, gamma=0.0001, kernel=rbf;, score=0.877 total time=   0.0s\n",
            "[CV 2/2] END C=1, degree=2, gamma=0.0001, kernel=rbf;, score=0.902 total time=   0.0s\n",
            "[CV 1/2] END C=1, degree=2, gamma=0.0001, kernel=linear;, score=0.960 total time=   0.1s\n",
            "[CV 2/2] END C=1, degree=2, gamma=0.0001, kernel=linear;, score=0.931 total time=   0.0s\n",
            "[CV 1/2] END C=1, degree=2, gamma=0.0001, kernel=poly;, score=0.924 total time=   0.0s\n",
            "[CV 2/2] END C=1, degree=2, gamma=0.0001, kernel=poly;, score=0.909 total time=   0.0s\n",
            "[CV 1/2] END C=1, degree=2, gamma=0.0001, kernel=sigmoid;, score=0.877 total time=   0.0s\n",
            "[CV 2/2] END C=1, degree=2, gamma=0.0001, kernel=sigmoid;, score=0.873 total time=   0.0s\n",
            "[CV 1/2] END C=1, degree=3, gamma=1, kernel=rbf;, score=0.880 total time=   0.0s\n",
            "[CV 2/2] END C=1, degree=3, gamma=1, kernel=rbf;, score=0.877 total time=   0.0s\n",
            "[CV 1/2] END C=1, degree=3, gamma=1, kernel=linear;, score=0.960 total time=   0.1s\n",
            "[CV 2/2] END C=1, degree=3, gamma=1, kernel=linear;, score=0.931 total time=   0.0s\n",
            "[CV 1/2] END C=1, degree=3, gamma=1, kernel=poly;, score=0.949 total time=   0.2s\n",
            "[CV 2/2] END C=1, degree=3, gamma=1, kernel=poly;, score=0.946 total time=   0.1s\n",
            "[CV 1/2] END C=1, degree=3, gamma=1, kernel=sigmoid;, score=0.877 total time=   0.0s\n",
            "[CV 2/2] END C=1, degree=3, gamma=1, kernel=sigmoid;, score=0.873 total time=   0.0s\n",
            "[CV 1/2] END C=1, degree=3, gamma=0.1, kernel=rbf;, score=0.891 total time=   0.0s\n",
            "[CV 2/2] END C=1, degree=3, gamma=0.1, kernel=rbf;, score=0.888 total time=   0.0s\n",
            "[CV 1/2] END C=1, degree=3, gamma=0.1, kernel=linear;, score=0.960 total time=   0.1s\n",
            "[CV 2/2] END C=1, degree=3, gamma=0.1, kernel=linear;, score=0.931 total time=   0.0s\n",
            "[CV 1/2] END C=1, degree=3, gamma=0.1, kernel=poly;, score=0.949 total time=   0.2s\n",
            "[CV 2/2] END C=1, degree=3, gamma=0.1, kernel=poly;, score=0.946 total time=   0.1s\n",
            "[CV 1/2] END C=1, degree=3, gamma=0.1, kernel=sigmoid;, score=0.877 total time=   0.0s\n",
            "[CV 2/2] END C=1, degree=3, gamma=0.1, kernel=sigmoid;, score=0.873 total time=   0.0s\n",
            "[CV 1/2] END C=1, degree=3, gamma=0.01, kernel=rbf;, score=0.888 total time=   0.0s\n",
            "[CV 2/2] END C=1, degree=3, gamma=0.01, kernel=rbf;, score=0.909 total time=   0.0s\n",
            "[CV 1/2] END C=1, degree=3, gamma=0.01, kernel=linear;, score=0.960 total time=   0.1s\n",
            "[CV 2/2] END C=1, degree=3, gamma=0.01, kernel=linear;, score=0.931 total time=   0.0s\n",
            "[CV 1/2] END C=1, degree=3, gamma=0.01, kernel=poly;, score=0.949 total time=   0.1s\n",
            "[CV 2/2] END C=1, degree=3, gamma=0.01, kernel=poly;, score=0.946 total time=   0.1s\n",
            "[CV 1/2] END C=1, degree=3, gamma=0.01, kernel=sigmoid;, score=0.877 total time=   0.0s\n",
            "[CV 2/2] END C=1, degree=3, gamma=0.01, kernel=sigmoid;, score=0.873 total time=   0.0s\n",
            "[CV 1/2] END C=1, degree=3, gamma=0.001, kernel=rbf;, score=0.931 total time=   0.0s\n",
            "[CV 2/2] END C=1, degree=3, gamma=0.001, kernel=rbf;, score=0.920 total time=   0.0s\n",
            "[CV 1/2] END C=1, degree=3, gamma=0.001, kernel=linear;, score=0.960 total time=   0.1s\n",
            "[CV 2/2] END C=1, degree=3, gamma=0.001, kernel=linear;, score=0.931 total time=   0.0s\n",
            "[CV 1/2] END C=1, degree=3, gamma=0.001, kernel=poly;, score=0.967 total time=   0.0s\n",
            "[CV 2/2] END C=1, degree=3, gamma=0.001, kernel=poly;, score=0.938 total time=   0.0s\n",
            "[CV 1/2] END C=1, degree=3, gamma=0.001, kernel=sigmoid;, score=0.877 total time=   0.0s\n",
            "[CV 2/2] END C=1, degree=3, gamma=0.001, kernel=sigmoid;, score=0.870 total time=   0.0s\n",
            "[CV 1/2] END C=1, degree=3, gamma=0.0001, kernel=rbf;, score=0.877 total time=   0.0s\n",
            "[CV 2/2] END C=1, degree=3, gamma=0.0001, kernel=rbf;, score=0.902 total time=   0.0s\n",
            "[CV 1/2] END C=1, degree=3, gamma=0.0001, kernel=linear;, score=0.960 total time=   0.1s\n",
            "[CV 2/2] END C=1, degree=3, gamma=0.0001, kernel=linear;, score=0.931 total time=   0.0s\n",
            "[CV 1/2] END C=1, degree=3, gamma=0.0001, kernel=poly;, score=0.946 total time=   0.0s\n",
            "[CV 2/2] END C=1, degree=3, gamma=0.0001, kernel=poly;, score=0.917 total time=   0.0s\n",
            "[CV 1/2] END C=1, degree=3, gamma=0.0001, kernel=sigmoid;, score=0.877 total time=   0.0s\n",
            "[CV 2/2] END C=1, degree=3, gamma=0.0001, kernel=sigmoid;, score=0.873 total time=   0.0s\n",
            "[CV 1/2] END C=10, degree=1, gamma=1, kernel=rbf;, score=0.880 total time=   0.0s\n",
            "[CV 2/2] END C=10, degree=1, gamma=1, kernel=rbf;, score=0.877 total time=   0.0s\n",
            "[CV 1/2] END C=10, degree=1, gamma=1, kernel=linear;, score=0.967 total time=   1.0s\n",
            "[CV 2/2] END C=10, degree=1, gamma=1, kernel=linear;, score=0.920 total time=   0.0s\n",
            "[CV 1/2] END C=10, degree=1, gamma=1, kernel=poly;, score=0.967 total time=   0.9s\n",
            "[CV 2/2] END C=10, degree=1, gamma=1, kernel=poly;, score=0.920 total time=   0.0s\n",
            "[CV 1/2] END C=10, degree=1, gamma=1, kernel=sigmoid;, score=0.877 total time=   0.0s\n",
            "[CV 2/2] END C=10, degree=1, gamma=1, kernel=sigmoid;, score=0.873 total time=   0.0s\n",
            "[CV 1/2] END C=10, degree=1, gamma=0.1, kernel=rbf;, score=0.891 total time=   0.0s\n",
            "[CV 2/2] END C=10, degree=1, gamma=0.1, kernel=rbf;, score=0.891 total time=   0.0s\n",
            "[CV 1/2] END C=10, degree=1, gamma=0.1, kernel=linear;, score=0.967 total time=   0.9s\n",
            "[CV 2/2] END C=10, degree=1, gamma=0.1, kernel=linear;, score=0.920 total time=   0.0s\n",
            "[CV 1/2] END C=10, degree=1, gamma=0.1, kernel=poly;, score=0.960 total time=   0.1s\n",
            "[CV 2/2] END C=10, degree=1, gamma=0.1, kernel=poly;, score=0.931 total time=   0.0s\n",
            "[CV 1/2] END C=10, degree=1, gamma=0.1, kernel=sigmoid;, score=0.877 total time=   0.0s\n",
            "[CV 2/2] END C=10, degree=1, gamma=0.1, kernel=sigmoid;, score=0.873 total time=   0.0s\n",
            "[CV 1/2] END C=10, degree=1, gamma=0.01, kernel=rbf;, score=0.891 total time=   0.0s\n",
            "[CV 2/2] END C=10, degree=1, gamma=0.01, kernel=rbf;, score=0.924 total time=   0.0s\n",
            "[CV 1/2] END C=10, degree=1, gamma=0.01, kernel=linear;, score=0.967 total time=   0.9s\n",
            "[CV 2/2] END C=10, degree=1, gamma=0.01, kernel=linear;, score=0.920 total time=   0.0s\n",
            "[CV 1/2] END C=10, degree=1, gamma=0.01, kernel=poly;, score=0.946 total time=   0.0s\n",
            "[CV 2/2] END C=10, degree=1, gamma=0.01, kernel=poly;, score=0.909 total time=   0.0s\n",
            "[CV 1/2] END C=10, degree=1, gamma=0.01, kernel=sigmoid;, score=0.877 total time=   0.0s\n",
            "[CV 2/2] END C=10, degree=1, gamma=0.01, kernel=sigmoid;, score=0.873 total time=   0.0s\n",
            "[CV 1/2] END C=10, degree=1, gamma=0.001, kernel=rbf;, score=0.942 total time=   0.0s\n",
            "[CV 2/2] END C=10, degree=1, gamma=0.001, kernel=rbf;, score=0.942 total time=   0.0s\n",
            "[CV 1/2] END C=10, degree=1, gamma=0.001, kernel=linear;, score=0.967 total time=   0.9s\n",
            "[CV 2/2] END C=10, degree=1, gamma=0.001, kernel=linear;, score=0.920 total time=   0.0s\n",
            "[CV 1/2] END C=10, degree=1, gamma=0.001, kernel=poly;, score=0.946 total time=   0.0s\n",
            "[CV 2/2] END C=10, degree=1, gamma=0.001, kernel=poly;, score=0.899 total time=   0.0s\n",
            "[CV 1/2] END C=10, degree=1, gamma=0.001, kernel=sigmoid;, score=0.837 total time=   0.0s\n",
            "[CV 2/2] END C=10, degree=1, gamma=0.001, kernel=sigmoid;, score=0.830 total time=   0.0s\n",
            "[CV 1/2] END C=10, degree=1, gamma=0.0001, kernel=rbf;, score=0.953 total time=   0.0s\n",
            "[CV 2/2] END C=10, degree=1, gamma=0.0001, kernel=rbf;, score=0.920 total time=   0.0s\n",
            "[CV 1/2] END C=10, degree=1, gamma=0.0001, kernel=linear;, score=0.967 total time=   0.9s\n",
            "[CV 2/2] END C=10, degree=1, gamma=0.0001, kernel=linear;, score=0.920 total time=   0.0s\n",
            "[CV 1/2] END C=10, degree=1, gamma=0.0001, kernel=poly;, score=0.949 total time=   0.0s\n",
            "[CV 2/2] END C=10, degree=1, gamma=0.0001, kernel=poly;, score=0.909 total time=   0.0s\n",
            "[CV 1/2] END C=10, degree=1, gamma=0.0001, kernel=sigmoid;, score=0.822 total time=   0.0s\n",
            "[CV 2/2] END C=10, degree=1, gamma=0.0001, kernel=sigmoid;, score=0.873 total time=   0.0s\n",
            "[CV 1/2] END C=10, degree=2, gamma=1, kernel=rbf;, score=0.880 total time=   0.0s\n",
            "[CV 2/2] END C=10, degree=2, gamma=1, kernel=rbf;, score=0.877 total time=   0.0s\n",
            "[CV 1/2] END C=10, degree=2, gamma=1, kernel=linear;, score=0.967 total time=   0.9s\n",
            "[CV 2/2] END C=10, degree=2, gamma=1, kernel=linear;, score=0.920 total time=   0.0s\n",
            "[CV 1/2] END C=10, degree=2, gamma=1, kernel=poly;, score=0.913 total time=   1.2s\n",
            "[CV 2/2] END C=10, degree=2, gamma=1, kernel=poly;, score=0.946 total time=   0.3s\n",
            "[CV 1/2] END C=10, degree=2, gamma=1, kernel=sigmoid;, score=0.877 total time=   0.0s\n",
            "[CV 2/2] END C=10, degree=2, gamma=1, kernel=sigmoid;, score=0.873 total time=   0.0s\n",
            "[CV 1/2] END C=10, degree=2, gamma=0.1, kernel=rbf;, score=0.891 total time=   0.0s\n",
            "[CV 2/2] END C=10, degree=2, gamma=0.1, kernel=rbf;, score=0.891 total time=   0.0s\n",
            "[CV 1/2] END C=10, degree=2, gamma=0.1, kernel=linear;, score=0.967 total time=   0.9s\n",
            "[CV 2/2] END C=10, degree=2, gamma=0.1, kernel=linear;, score=0.920 total time=   0.0s\n",
            "[CV 1/2] END C=10, degree=2, gamma=0.1, kernel=poly;, score=0.913 total time=   1.3s\n",
            "[CV 2/2] END C=10, degree=2, gamma=0.1, kernel=poly;, score=0.946 total time=   0.3s\n",
            "[CV 1/2] END C=10, degree=2, gamma=0.1, kernel=sigmoid;, score=0.877 total time=   0.0s\n",
            "[CV 2/2] END C=10, degree=2, gamma=0.1, kernel=sigmoid;, score=0.873 total time=   0.0s\n",
            "[CV 1/2] END C=10, degree=2, gamma=0.01, kernel=rbf;, score=0.891 total time=   0.0s\n",
            "[CV 2/2] END C=10, degree=2, gamma=0.01, kernel=rbf;, score=0.924 total time=   0.0s\n",
            "[CV 1/2] END C=10, degree=2, gamma=0.01, kernel=linear;, score=0.967 total time=   1.0s\n",
            "[CV 2/2] END C=10, degree=2, gamma=0.01, kernel=linear;, score=0.920 total time=   0.0s\n",
            "[CV 1/2] END C=10, degree=2, gamma=0.01, kernel=poly;, score=0.938 total time=   0.2s\n",
            "[CV 2/2] END C=10, degree=2, gamma=0.01, kernel=poly;, score=0.942 total time=   0.3s\n",
            "[CV 1/2] END C=10, degree=2, gamma=0.01, kernel=sigmoid;, score=0.877 total time=   0.0s\n",
            "[CV 2/2] END C=10, degree=2, gamma=0.01, kernel=sigmoid;, score=0.873 total time=   0.0s\n",
            "[CV 1/2] END C=10, degree=2, gamma=0.001, kernel=rbf;, score=0.942 total time=   0.0s\n",
            "[CV 2/2] END C=10, degree=2, gamma=0.001, kernel=rbf;, score=0.942 total time=   0.0s\n",
            "[CV 1/2] END C=10, degree=2, gamma=0.001, kernel=linear;, score=0.967 total time=   0.9s\n",
            "[CV 2/2] END C=10, degree=2, gamma=0.001, kernel=linear;, score=0.920 total time=   0.1s\n",
            "[CV 1/2] END C=10, degree=2, gamma=0.001, kernel=poly;, score=0.960 total time=   0.0s\n",
            "[CV 2/2] END C=10, degree=2, gamma=0.001, kernel=poly;, score=0.942 total time=   0.0s\n",
            "[CV 1/2] END C=10, degree=2, gamma=0.001, kernel=sigmoid;, score=0.837 total time=   0.0s\n",
            "[CV 2/2] END C=10, degree=2, gamma=0.001, kernel=sigmoid;, score=0.830 total time=   0.0s\n",
            "[CV 1/2] END C=10, degree=2, gamma=0.0001, kernel=rbf;, score=0.953 total time=   0.0s\n",
            "[CV 2/2] END C=10, degree=2, gamma=0.0001, kernel=rbf;, score=0.920 total time=   0.0s\n",
            "[CV 1/2] END C=10, degree=2, gamma=0.0001, kernel=linear;, score=0.967 total time=   0.9s\n",
            "[CV 2/2] END C=10, degree=2, gamma=0.0001, kernel=linear;, score=0.920 total time=   0.1s\n",
            "[CV 1/2] END C=10, degree=2, gamma=0.0001, kernel=poly;, score=0.953 total time=   0.0s\n",
            "[CV 2/2] END C=10, degree=2, gamma=0.0001, kernel=poly;, score=0.917 total time=   0.0s\n",
            "[CV 1/2] END C=10, degree=2, gamma=0.0001, kernel=sigmoid;, score=0.822 total time=   0.0s\n",
            "[CV 2/2] END C=10, degree=2, gamma=0.0001, kernel=sigmoid;, score=0.873 total time=   0.0s\n",
            "[CV 1/2] END C=10, degree=3, gamma=1, kernel=rbf;, score=0.880 total time=   0.0s\n",
            "[CV 2/2] END C=10, degree=3, gamma=1, kernel=rbf;, score=0.877 total time=   0.0s\n",
            "[CV 1/2] END C=10, degree=3, gamma=1, kernel=linear;, score=0.967 total time=   0.9s\n",
            "[CV 2/2] END C=10, degree=3, gamma=1, kernel=linear;, score=0.920 total time=   0.1s\n",
            "[CV 1/2] END C=10, degree=3, gamma=1, kernel=poly;, score=0.949 total time=   0.1s\n",
            "[CV 2/2] END C=10, degree=3, gamma=1, kernel=poly;, score=0.946 total time=   0.1s\n",
            "[CV 1/2] END C=10, degree=3, gamma=1, kernel=sigmoid;, score=0.877 total time=   0.0s\n",
            "[CV 2/2] END C=10, degree=3, gamma=1, kernel=sigmoid;, score=0.873 total time=   0.0s\n",
            "[CV 1/2] END C=10, degree=3, gamma=0.1, kernel=rbf;, score=0.891 total time=   0.0s\n",
            "[CV 2/2] END C=10, degree=3, gamma=0.1, kernel=rbf;, score=0.891 total time=   0.0s\n",
            "[CV 1/2] END C=10, degree=3, gamma=0.1, kernel=linear;, score=0.967 total time=   0.9s\n",
            "[CV 2/2] END C=10, degree=3, gamma=0.1, kernel=linear;, score=0.920 total time=   0.0s\n",
            "[CV 1/2] END C=10, degree=3, gamma=0.1, kernel=poly;, score=0.949 total time=   0.2s\n",
            "[CV 2/2] END C=10, degree=3, gamma=0.1, kernel=poly;, score=0.946 total time=   0.1s\n",
            "[CV 1/2] END C=10, degree=3, gamma=0.1, kernel=sigmoid;, score=0.877 total time=   0.0s\n",
            "[CV 2/2] END C=10, degree=3, gamma=0.1, kernel=sigmoid;, score=0.873 total time=   0.0s\n",
            "[CV 1/2] END C=10, degree=3, gamma=0.01, kernel=rbf;, score=0.891 total time=   0.0s\n",
            "[CV 2/2] END C=10, degree=3, gamma=0.01, kernel=rbf;, score=0.924 total time=   0.0s\n",
            "[CV 1/2] END C=10, degree=3, gamma=0.01, kernel=linear;, score=0.967 total time=   0.9s\n",
            "[CV 2/2] END C=10, degree=3, gamma=0.01, kernel=linear;, score=0.920 total time=   0.0s\n",
            "[CV 1/2] END C=10, degree=3, gamma=0.01, kernel=poly;, score=0.949 total time=   0.1s\n",
            "[CV 2/2] END C=10, degree=3, gamma=0.01, kernel=poly;, score=0.946 total time=   0.1s\n",
            "[CV 1/2] END C=10, degree=3, gamma=0.01, kernel=sigmoid;, score=0.877 total time=   0.0s\n",
            "[CV 2/2] END C=10, degree=3, gamma=0.01, kernel=sigmoid;, score=0.873 total time=   0.0s\n",
            "[CV 1/2] END C=10, degree=3, gamma=0.001, kernel=rbf;, score=0.942 total time=   0.0s\n",
            "[CV 2/2] END C=10, degree=3, gamma=0.001, kernel=rbf;, score=0.942 total time=   0.0s\n",
            "[CV 1/2] END C=10, degree=3, gamma=0.001, kernel=linear;, score=0.967 total time=   0.9s\n",
            "[CV 2/2] END C=10, degree=3, gamma=0.001, kernel=linear;, score=0.920 total time=   0.0s\n",
            "[CV 1/2] END C=10, degree=3, gamma=0.001, kernel=poly;, score=0.957 total time=   0.1s\n",
            "[CV 2/2] END C=10, degree=3, gamma=0.001, kernel=poly;, score=0.949 total time=   0.0s\n",
            "[CV 1/2] END C=10, degree=3, gamma=0.001, kernel=sigmoid;, score=0.837 total time=   0.0s\n",
            "[CV 2/2] END C=10, degree=3, gamma=0.001, kernel=sigmoid;, score=0.830 total time=   0.0s\n",
            "[CV 1/2] END C=10, degree=3, gamma=0.0001, kernel=rbf;, score=0.953 total time=   0.0s\n",
            "[CV 2/2] END C=10, degree=3, gamma=0.0001, kernel=rbf;, score=0.920 total time=   0.0s\n",
            "[CV 1/2] END C=10, degree=3, gamma=0.0001, kernel=linear;, score=0.967 total time=   0.9s\n",
            "[CV 2/2] END C=10, degree=3, gamma=0.0001, kernel=linear;, score=0.920 total time=   0.0s\n",
            "[CV 1/2] END C=10, degree=3, gamma=0.0001, kernel=poly;, score=0.949 total time=   0.0s\n",
            "[CV 2/2] END C=10, degree=3, gamma=0.0001, kernel=poly;, score=0.917 total time=   0.0s\n",
            "[CV 1/2] END C=10, degree=3, gamma=0.0001, kernel=sigmoid;, score=0.822 total time=   0.0s\n",
            "[CV 2/2] END C=10, degree=3, gamma=0.0001, kernel=sigmoid;, score=0.873 total time=   0.0s\n",
            "[CV 1/2] END C=100, degree=1, gamma=1, kernel=rbf;, score=0.880 total time=   0.0s\n",
            "[CV 2/2] END C=100, degree=1, gamma=1, kernel=rbf;, score=0.877 total time=   0.0s\n",
            "[CV 1/2] END C=100, degree=1, gamma=1, kernel=linear;, score=0.971 total time=   4.2s\n",
            "[CV 2/2] END C=100, degree=1, gamma=1, kernel=linear;, score=0.917 total time=   0.3s\n",
            "[CV 1/2] END C=100, degree=1, gamma=1, kernel=poly;, score=0.971 total time=   4.2s\n",
            "[CV 2/2] END C=100, degree=1, gamma=1, kernel=poly;, score=0.917 total time=   0.3s\n",
            "[CV 1/2] END C=100, degree=1, gamma=1, kernel=sigmoid;, score=0.877 total time=   0.0s\n",
            "[CV 2/2] END C=100, degree=1, gamma=1, kernel=sigmoid;, score=0.873 total time=   0.0s\n",
            "[CV 1/2] END C=100, degree=1, gamma=0.1, kernel=rbf;, score=0.891 total time=   0.0s\n",
            "[CV 2/2] END C=100, degree=1, gamma=0.1, kernel=rbf;, score=0.891 total time=   0.0s\n",
            "[CV 1/2] END C=100, degree=1, gamma=0.1, kernel=linear;, score=0.971 total time=   4.2s\n",
            "[CV 2/2] END C=100, degree=1, gamma=0.1, kernel=linear;, score=0.917 total time=   0.3s\n",
            "[CV 1/2] END C=100, degree=1, gamma=0.1, kernel=poly;, score=0.967 total time=   0.6s\n",
            "[CV 2/2] END C=100, degree=1, gamma=0.1, kernel=poly;, score=0.920 total time=   0.1s\n",
            "[CV 1/2] END C=100, degree=1, gamma=0.1, kernel=sigmoid;, score=0.877 total time=   0.0s\n",
            "[CV 2/2] END C=100, degree=1, gamma=0.1, kernel=sigmoid;, score=0.873 total time=   0.0s\n",
            "[CV 1/2] END C=100, degree=1, gamma=0.01, kernel=rbf;, score=0.891 total time=   0.0s\n",
            "[CV 2/2] END C=100, degree=1, gamma=0.01, kernel=rbf;, score=0.928 total time=   0.0s\n",
            "[CV 1/2] END C=100, degree=1, gamma=0.01, kernel=linear;, score=0.971 total time=   4.3s\n",
            "[CV 2/2] END C=100, degree=1, gamma=0.01, kernel=linear;, score=0.917 total time=   0.3s\n",
            "[CV 1/2] END C=100, degree=1, gamma=0.01, kernel=poly;, score=0.960 total time=   0.1s\n",
            "[CV 2/2] END C=100, degree=1, gamma=0.01, kernel=poly;, score=0.931 total time=   0.0s\n",
            "[CV 1/2] END C=100, degree=1, gamma=0.01, kernel=sigmoid;, score=0.877 total time=   0.0s\n",
            "[CV 2/2] END C=100, degree=1, gamma=0.01, kernel=sigmoid;, score=0.873 total time=   0.0s\n",
            "[CV 1/2] END C=100, degree=1, gamma=0.001, kernel=rbf;, score=0.946 total time=   0.0s\n",
            "[CV 2/2] END C=100, degree=1, gamma=0.001, kernel=rbf;, score=0.928 total time=   0.0s\n",
            "[CV 1/2] END C=100, degree=1, gamma=0.001, kernel=linear;, score=0.971 total time=   4.3s\n",
            "[CV 2/2] END C=100, degree=1, gamma=0.001, kernel=linear;, score=0.917 total time=   0.3s\n",
            "[CV 1/2] END C=100, degree=1, gamma=0.001, kernel=poly;, score=0.946 total time=   0.0s\n",
            "[CV 2/2] END C=100, degree=1, gamma=0.001, kernel=poly;, score=0.909 total time=   0.0s\n",
            "[CV 1/2] END C=100, degree=1, gamma=0.001, kernel=sigmoid;, score=0.746 total time=   0.0s\n",
            "[CV 2/2] END C=100, degree=1, gamma=0.001, kernel=sigmoid;, score=0.783 total time=   0.0s\n",
            "[CV 1/2] END C=100, degree=1, gamma=0.0001, kernel=rbf;, score=0.957 total time=   0.0s\n",
            "[CV 2/2] END C=100, degree=1, gamma=0.0001, kernel=rbf;, score=0.920 total time=   0.0s\n",
            "[CV 1/2] END C=100, degree=1, gamma=0.0001, kernel=linear;, score=0.971 total time=   4.2s\n",
            "[CV 2/2] END C=100, degree=1, gamma=0.0001, kernel=linear;, score=0.917 total time=   0.3s\n",
            "[CV 1/2] END C=100, degree=1, gamma=0.0001, kernel=poly;, score=0.946 total time=   0.0s\n",
            "[CV 2/2] END C=100, degree=1, gamma=0.0001, kernel=poly;, score=0.899 total time=   0.0s\n",
            "[CV 1/2] END C=100, degree=1, gamma=0.0001, kernel=sigmoid;, score=0.819 total time=   0.0s\n",
            "[CV 2/2] END C=100, degree=1, gamma=0.0001, kernel=sigmoid;, score=0.830 total time=   0.0s\n",
            "[CV 1/2] END C=100, degree=2, gamma=1, kernel=rbf;, score=0.880 total time=   0.0s\n",
            "[CV 2/2] END C=100, degree=2, gamma=1, kernel=rbf;, score=0.877 total time=   0.0s\n",
            "[CV 1/2] END C=100, degree=2, gamma=1, kernel=linear;, score=0.971 total time=   4.2s\n",
            "[CV 2/2] END C=100, degree=2, gamma=1, kernel=linear;, score=0.917 total time=   0.3s\n",
            "[CV 1/2] END C=100, degree=2, gamma=1, kernel=poly;, score=0.913 total time=   1.2s\n",
            "[CV 2/2] END C=100, degree=2, gamma=1, kernel=poly;, score=0.946 total time=   0.3s\n",
            "[CV 1/2] END C=100, degree=2, gamma=1, kernel=sigmoid;, score=0.877 total time=   0.0s\n",
            "[CV 2/2] END C=100, degree=2, gamma=1, kernel=sigmoid;, score=0.873 total time=   0.0s\n",
            "[CV 1/2] END C=100, degree=2, gamma=0.1, kernel=rbf;, score=0.891 total time=   0.0s\n",
            "[CV 2/2] END C=100, degree=2, gamma=0.1, kernel=rbf;, score=0.891 total time=   0.0s\n",
            "[CV 1/2] END C=100, degree=2, gamma=0.1, kernel=linear;, score=0.971 total time=   4.2s\n",
            "[CV 2/2] END C=100, degree=2, gamma=0.1, kernel=linear;, score=0.917 total time=   0.3s\n",
            "[CV 1/2] END C=100, degree=2, gamma=0.1, kernel=poly;, score=0.913 total time=   1.3s\n",
            "[CV 2/2] END C=100, degree=2, gamma=0.1, kernel=poly;, score=0.946 total time=   0.3s\n",
            "[CV 1/2] END C=100, degree=2, gamma=0.1, kernel=sigmoid;, score=0.877 total time=   0.0s\n",
            "[CV 2/2] END C=100, degree=2, gamma=0.1, kernel=sigmoid;, score=0.873 total time=   0.0s\n",
            "[CV 1/2] END C=100, degree=2, gamma=0.01, kernel=rbf;, score=0.891 total time=   0.0s\n",
            "[CV 2/2] END C=100, degree=2, gamma=0.01, kernel=rbf;, score=0.928 total time=   0.0s\n",
            "[CV 1/2] END C=100, degree=2, gamma=0.01, kernel=linear;, score=0.971 total time=   4.2s\n",
            "[CV 2/2] END C=100, degree=2, gamma=0.01, kernel=linear;, score=0.917 total time=   0.3s\n",
            "[CV 1/2] END C=100, degree=2, gamma=0.01, kernel=poly;, score=0.913 total time=   1.2s\n",
            "[CV 2/2] END C=100, degree=2, gamma=0.01, kernel=poly;, score=0.946 total time=   0.4s\n",
            "[CV 1/2] END C=100, degree=2, gamma=0.01, kernel=sigmoid;, score=0.877 total time=   0.0s\n",
            "[CV 2/2] END C=100, degree=2, gamma=0.01, kernel=sigmoid;, score=0.873 total time=   0.0s\n",
            "[CV 1/2] END C=100, degree=2, gamma=0.001, kernel=rbf;, score=0.946 total time=   0.0s\n",
            "[CV 2/2] END C=100, degree=2, gamma=0.001, kernel=rbf;, score=0.928 total time=   0.0s\n",
            "[CV 1/2] END C=100, degree=2, gamma=0.001, kernel=linear;, score=0.971 total time=   4.2s\n",
            "[CV 2/2] END C=100, degree=2, gamma=0.001, kernel=linear;, score=0.917 total time=   0.3s\n",
            "[CV 1/2] END C=100, degree=2, gamma=0.001, kernel=poly;, score=0.957 total time=   0.1s\n",
            "[CV 2/2] END C=100, degree=2, gamma=0.001, kernel=poly;, score=0.949 total time=   0.0s\n",
            "[CV 1/2] END C=100, degree=2, gamma=0.001, kernel=sigmoid;, score=0.746 total time=   0.0s\n",
            "[CV 2/2] END C=100, degree=2, gamma=0.001, kernel=sigmoid;, score=0.783 total time=   0.0s\n",
            "[CV 1/2] END C=100, degree=2, gamma=0.0001, kernel=rbf;, score=0.957 total time=   0.0s\n",
            "[CV 2/2] END C=100, degree=2, gamma=0.0001, kernel=rbf;, score=0.920 total time=   0.0s\n",
            "[CV 1/2] END C=100, degree=2, gamma=0.0001, kernel=linear;, score=0.971 total time=   4.2s\n",
            "[CV 2/2] END C=100, degree=2, gamma=0.0001, kernel=linear;, score=0.917 total time=   0.3s\n",
            "[CV 1/2] END C=100, degree=2, gamma=0.0001, kernel=poly;, score=0.942 total time=   0.0s\n",
            "[CV 2/2] END C=100, degree=2, gamma=0.0001, kernel=poly;, score=0.920 total time=   0.0s\n",
            "[CV 1/2] END C=100, degree=2, gamma=0.0001, kernel=sigmoid;, score=0.819 total time=   0.0s\n",
            "[CV 2/2] END C=100, degree=2, gamma=0.0001, kernel=sigmoid;, score=0.830 total time=   0.0s\n",
            "[CV 1/2] END C=100, degree=3, gamma=1, kernel=rbf;, score=0.880 total time=   0.0s\n",
            "[CV 2/2] END C=100, degree=3, gamma=1, kernel=rbf;, score=0.877 total time=   0.0s\n",
            "[CV 1/2] END C=100, degree=3, gamma=1, kernel=linear;, score=0.971 total time=   4.2s\n",
            "[CV 2/2] END C=100, degree=3, gamma=1, kernel=linear;, score=0.917 total time=   0.3s\n",
            "[CV 1/2] END C=100, degree=3, gamma=1, kernel=poly;, score=0.949 total time=   0.1s\n",
            "[CV 2/2] END C=100, degree=3, gamma=1, kernel=poly;, score=0.946 total time=   0.1s\n",
            "[CV 1/2] END C=100, degree=3, gamma=1, kernel=sigmoid;, score=0.877 total time=   0.0s\n",
            "[CV 2/2] END C=100, degree=3, gamma=1, kernel=sigmoid;, score=0.873 total time=   0.0s\n",
            "[CV 1/2] END C=100, degree=3, gamma=0.1, kernel=rbf;, score=0.891 total time=   0.0s\n",
            "[CV 2/2] END C=100, degree=3, gamma=0.1, kernel=rbf;, score=0.891 total time=   0.0s\n",
            "[CV 1/2] END C=100, degree=3, gamma=0.1, kernel=linear;, score=0.971 total time=   4.2s\n",
            "[CV 2/2] END C=100, degree=3, gamma=0.1, kernel=linear;, score=0.917 total time=   0.3s\n",
            "[CV 1/2] END C=100, degree=3, gamma=0.1, kernel=poly;, score=0.949 total time=   0.2s\n",
            "[CV 2/2] END C=100, degree=3, gamma=0.1, kernel=poly;, score=0.946 total time=   0.1s\n",
            "[CV 1/2] END C=100, degree=3, gamma=0.1, kernel=sigmoid;, score=0.877 total time=   0.0s\n",
            "[CV 2/2] END C=100, degree=3, gamma=0.1, kernel=sigmoid;, score=0.873 total time=   0.0s\n",
            "[CV 1/2] END C=100, degree=3, gamma=0.01, kernel=rbf;, score=0.891 total time=   0.0s\n",
            "[CV 2/2] END C=100, degree=3, gamma=0.01, kernel=rbf;, score=0.928 total time=   0.0s\n",
            "[CV 1/2] END C=100, degree=3, gamma=0.01, kernel=linear;, score=0.971 total time=   4.2s\n",
            "[CV 2/2] END C=100, degree=3, gamma=0.01, kernel=linear;, score=0.917 total time=   0.3s\n",
            "[CV 1/2] END C=100, degree=3, gamma=0.01, kernel=poly;, score=0.949 total time=   0.1s\n",
            "[CV 2/2] END C=100, degree=3, gamma=0.01, kernel=poly;, score=0.946 total time=   0.1s\n",
            "[CV 1/2] END C=100, degree=3, gamma=0.01, kernel=sigmoid;, score=0.877 total time=   0.0s\n",
            "[CV 2/2] END C=100, degree=3, gamma=0.01, kernel=sigmoid;, score=0.873 total time=   0.0s\n",
            "[CV 1/2] END C=100, degree=3, gamma=0.001, kernel=rbf;, score=0.946 total time=   0.0s\n",
            "[CV 2/2] END C=100, degree=3, gamma=0.001, kernel=rbf;, score=0.928 total time=   0.0s\n",
            "[CV 1/2] END C=100, degree=3, gamma=0.001, kernel=linear;, score=0.971 total time=   4.2s\n",
            "[CV 2/2] END C=100, degree=3, gamma=0.001, kernel=linear;, score=0.917 total time=   0.3s\n",
            "[CV 1/2] END C=100, degree=3, gamma=0.001, kernel=poly;, score=0.949 total time=   0.1s\n",
            "[CV 2/2] END C=100, degree=3, gamma=0.001, kernel=poly;, score=0.946 total time=   0.1s\n",
            "[CV 1/2] END C=100, degree=3, gamma=0.001, kernel=sigmoid;, score=0.746 total time=   0.0s\n",
            "[CV 2/2] END C=100, degree=3, gamma=0.001, kernel=sigmoid;, score=0.783 total time=   0.0s\n",
            "[CV 1/2] END C=100, degree=3, gamma=0.0001, kernel=rbf;, score=0.957 total time=   0.0s\n",
            "[CV 2/2] END C=100, degree=3, gamma=0.0001, kernel=rbf;, score=0.920 total time=   0.0s\n",
            "[CV 1/2] END C=100, degree=3, gamma=0.0001, kernel=linear;, score=0.971 total time=   4.2s\n",
            "[CV 2/2] END C=100, degree=3, gamma=0.0001, kernel=linear;, score=0.917 total time=   0.3s\n",
            "[CV 1/2] END C=100, degree=3, gamma=0.0001, kernel=poly;, score=0.953 total time=   0.0s\n",
            "[CV 2/2] END C=100, degree=3, gamma=0.0001, kernel=poly;, score=0.924 total time=   0.0s\n",
            "[CV 1/2] END C=100, degree=3, gamma=0.0001, kernel=sigmoid;, score=0.819 total time=   0.0s\n",
            "[CV 2/2] END C=100, degree=3, gamma=0.0001, kernel=sigmoid;, score=0.830 total time=   0.0s\n",
            "[CV 1/2] END C=1000, degree=1, gamma=1, kernel=rbf;, score=0.880 total time=   0.0s\n",
            "[CV 2/2] END C=1000, degree=1, gamma=1, kernel=rbf;, score=0.877 total time=   0.0s\n",
            "[CV 1/2] END C=1000, degree=1, gamma=1, kernel=linear;, score=0.975 total time=  44.4s\n",
            "[CV 2/2] END C=1000, degree=1, gamma=1, kernel=linear;, score=0.917 total time=   2.5s\n",
            "[CV 1/2] END C=1000, degree=1, gamma=1, kernel=poly;, score=0.975 total time=  44.3s\n",
            "[CV 2/2] END C=1000, degree=1, gamma=1, kernel=poly;, score=0.917 total time=   2.5s\n",
            "[CV 1/2] END C=1000, degree=1, gamma=1, kernel=sigmoid;, score=0.877 total time=   0.0s\n",
            "[CV 2/2] END C=1000, degree=1, gamma=1, kernel=sigmoid;, score=0.873 total time=   0.0s\n",
            "[CV 1/2] END C=1000, degree=1, gamma=0.1, kernel=rbf;, score=0.891 total time=   0.0s\n",
            "[CV 2/2] END C=1000, degree=1, gamma=0.1, kernel=rbf;, score=0.891 total time=   0.0s\n",
            "[CV 1/2] END C=1000, degree=1, gamma=0.1, kernel=linear;, score=0.975 total time=  44.5s\n",
            "[CV 2/2] END C=1000, degree=1, gamma=0.1, kernel=linear;, score=0.917 total time=   2.6s\n",
            "[CV 1/2] END C=1000, degree=1, gamma=0.1, kernel=poly;, score=0.960 total time=   1.7s\n",
            "[CV 2/2] END C=1000, degree=1, gamma=0.1, kernel=poly;, score=0.917 total time=   0.3s\n",
            "[CV 1/2] END C=1000, degree=1, gamma=0.1, kernel=sigmoid;, score=0.877 total time=   0.0s\n",
            "[CV 2/2] END C=1000, degree=1, gamma=0.1, kernel=sigmoid;, score=0.873 total time=   0.0s\n",
            "[CV 1/2] END C=1000, degree=1, gamma=0.01, kernel=rbf;, score=0.891 total time=   0.0s\n",
            "[CV 2/2] END C=1000, degree=1, gamma=0.01, kernel=rbf;, score=0.928 total time=   0.0s\n",
            "[CV 1/2] END C=1000, degree=1, gamma=0.01, kernel=linear;, score=0.975 total time=  44.5s\n",
            "[CV 2/2] END C=1000, degree=1, gamma=0.01, kernel=linear;, score=0.917 total time=   2.6s\n",
            "[CV 1/2] END C=1000, degree=1, gamma=0.01, kernel=poly;, score=0.971 total time=   0.5s\n",
            "[CV 2/2] END C=1000, degree=1, gamma=0.01, kernel=poly;, score=0.917 total time=   0.1s\n",
            "[CV 1/2] END C=1000, degree=1, gamma=0.01, kernel=sigmoid;, score=0.877 total time=   0.0s\n",
            "[CV 2/2] END C=1000, degree=1, gamma=0.01, kernel=sigmoid;, score=0.873 total time=   0.0s\n",
            "[CV 1/2] END C=1000, degree=1, gamma=0.001, kernel=rbf;, score=0.946 total time=   0.0s\n",
            "[CV 2/2] END C=1000, degree=1, gamma=0.001, kernel=rbf;, score=0.928 total time=   0.0s\n",
            "[CV 1/2] END C=1000, degree=1, gamma=0.001, kernel=linear;, score=0.975 total time=  44.6s\n",
            "[CV 2/2] END C=1000, degree=1, gamma=0.001, kernel=linear;, score=0.917 total time=   2.5s\n",
            "[CV 1/2] END C=1000, degree=1, gamma=0.001, kernel=poly;, score=0.960 total time=   0.1s\n",
            "[CV 2/2] END C=1000, degree=1, gamma=0.001, kernel=poly;, score=0.931 total time=   0.0s\n",
            "[CV 1/2] END C=1000, degree=1, gamma=0.001, kernel=sigmoid;, score=0.743 total time=   0.0s\n",
            "[CV 2/2] END C=1000, degree=1, gamma=0.001, kernel=sigmoid;, score=0.761 total time=   0.0s\n",
            "[CV 1/2] END C=1000, degree=1, gamma=0.0001, kernel=rbf;, score=0.967 total time=   0.0s\n",
            "[CV 2/2] END C=1000, degree=1, gamma=0.0001, kernel=rbf;, score=0.942 total time=   0.0s\n",
            "[CV 1/2] END C=1000, degree=1, gamma=0.0001, kernel=linear;, score=0.975 total time=  44.3s\n",
            "[CV 2/2] END C=1000, degree=1, gamma=0.0001, kernel=linear;, score=0.917 total time=   2.5s\n",
            "[CV 1/2] END C=1000, degree=1, gamma=0.0001, kernel=poly;, score=0.946 total time=   0.0s\n",
            "[CV 2/2] END C=1000, degree=1, gamma=0.0001, kernel=poly;, score=0.909 total time=   0.0s\n",
            "[CV 1/2] END C=1000, degree=1, gamma=0.0001, kernel=sigmoid;, score=0.819 total time=   0.0s\n",
            "[CV 2/2] END C=1000, degree=1, gamma=0.0001, kernel=sigmoid;, score=0.826 total time=   0.0s\n",
            "[CV 1/2] END C=1000, degree=2, gamma=1, kernel=rbf;, score=0.880 total time=   0.0s\n",
            "[CV 2/2] END C=1000, degree=2, gamma=1, kernel=rbf;, score=0.877 total time=   0.0s\n",
            "[CV 1/2] END C=1000, degree=2, gamma=1, kernel=linear;, score=0.975 total time=  44.7s\n",
            "[CV 2/2] END C=1000, degree=2, gamma=1, kernel=linear;, score=0.917 total time=   2.6s\n",
            "[CV 1/2] END C=1000, degree=2, gamma=1, kernel=poly;, score=0.913 total time=   1.2s\n",
            "[CV 2/2] END C=1000, degree=2, gamma=1, kernel=poly;, score=0.946 total time=   0.3s\n",
            "[CV 1/2] END C=1000, degree=2, gamma=1, kernel=sigmoid;, score=0.877 total time=   0.0s\n",
            "[CV 2/2] END C=1000, degree=2, gamma=1, kernel=sigmoid;, score=0.873 total time=   0.0s\n",
            "[CV 1/2] END C=1000, degree=2, gamma=0.1, kernel=rbf;, score=0.891 total time=   0.0s\n",
            "[CV 2/2] END C=1000, degree=2, gamma=0.1, kernel=rbf;, score=0.891 total time=   0.0s\n",
            "[CV 1/2] END C=1000, degree=2, gamma=0.1, kernel=linear;, score=0.975 total time=  44.4s\n",
            "[CV 2/2] END C=1000, degree=2, gamma=0.1, kernel=linear;, score=0.917 total time=   2.5s\n",
            "[CV 1/2] END C=1000, degree=2, gamma=0.1, kernel=poly;, score=0.913 total time=   1.3s\n",
            "[CV 2/2] END C=1000, degree=2, gamma=0.1, kernel=poly;, score=0.946 total time=   0.4s\n",
            "[CV 1/2] END C=1000, degree=2, gamma=0.1, kernel=sigmoid;, score=0.877 total time=   0.0s\n",
            "[CV 2/2] END C=1000, degree=2, gamma=0.1, kernel=sigmoid;, score=0.873 total time=   0.0s\n",
            "[CV 1/2] END C=1000, degree=2, gamma=0.01, kernel=rbf;, score=0.891 total time=   0.0s\n",
            "[CV 2/2] END C=1000, degree=2, gamma=0.01, kernel=rbf;, score=0.928 total time=   0.0s\n",
            "[CV 1/2] END C=1000, degree=2, gamma=0.01, kernel=linear;, score=0.975 total time=  44.1s\n",
            "[CV 2/2] END C=1000, degree=2, gamma=0.01, kernel=linear;, score=0.917 total time=   2.5s\n",
            "[CV 1/2] END C=1000, degree=2, gamma=0.01, kernel=poly;, score=0.913 total time=   1.2s\n",
            "[CV 2/2] END C=1000, degree=2, gamma=0.01, kernel=poly;, score=0.946 total time=   0.4s\n",
            "[CV 1/2] END C=1000, degree=2, gamma=0.01, kernel=sigmoid;, score=0.877 total time=   0.0s\n",
            "[CV 2/2] END C=1000, degree=2, gamma=0.01, kernel=sigmoid;, score=0.873 total time=   0.0s\n",
            "[CV 1/2] END C=1000, degree=2, gamma=0.001, kernel=rbf;, score=0.946 total time=   0.0s\n",
            "[CV 2/2] END C=1000, degree=2, gamma=0.001, kernel=rbf;, score=0.928 total time=   0.0s\n",
            "[CV 1/2] END C=1000, degree=2, gamma=0.001, kernel=linear;, score=0.975 total time=  44.4s\n",
            "[CV 2/2] END C=1000, degree=2, gamma=0.001, kernel=linear;, score=0.917 total time=   2.5s\n",
            "[CV 1/2] END C=1000, degree=2, gamma=0.001, kernel=poly;, score=0.938 total time=   0.2s\n",
            "[CV 2/2] END C=1000, degree=2, gamma=0.001, kernel=poly;, score=0.942 total time=   0.2s\n",
            "[CV 1/2] END C=1000, degree=2, gamma=0.001, kernel=sigmoid;, score=0.743 total time=   0.0s\n",
            "[CV 2/2] END C=1000, degree=2, gamma=0.001, kernel=sigmoid;, score=0.761 total time=   0.0s\n",
            "[CV 1/2] END C=1000, degree=2, gamma=0.0001, kernel=rbf;, score=0.967 total time=   0.0s\n",
            "[CV 2/2] END C=1000, degree=2, gamma=0.0001, kernel=rbf;, score=0.942 total time=   0.0s\n",
            "[CV 1/2] END C=1000, degree=2, gamma=0.0001, kernel=linear;, score=0.975 total time=  44.5s\n",
            "[CV 2/2] END C=1000, degree=2, gamma=0.0001, kernel=linear;, score=0.917 total time=   2.5s\n",
            "[CV 1/2] END C=1000, degree=2, gamma=0.0001, kernel=poly;, score=0.960 total time=   0.0s\n",
            "[CV 2/2] END C=1000, degree=2, gamma=0.0001, kernel=poly;, score=0.942 total time=   0.0s\n",
            "[CV 1/2] END C=1000, degree=2, gamma=0.0001, kernel=sigmoid;, score=0.819 total time=   0.0s\n",
            "[CV 2/2] END C=1000, degree=2, gamma=0.0001, kernel=sigmoid;, score=0.826 total time=   0.0s\n",
            "[CV 1/2] END C=1000, degree=3, gamma=1, kernel=rbf;, score=0.880 total time=   0.0s\n",
            "[CV 2/2] END C=1000, degree=3, gamma=1, kernel=rbf;, score=0.877 total time=   0.0s\n",
            "[CV 1/2] END C=1000, degree=3, gamma=1, kernel=linear;, score=0.975 total time=  44.1s\n",
            "[CV 2/2] END C=1000, degree=3, gamma=1, kernel=linear;, score=0.917 total time=   2.5s\n",
            "[CV 1/2] END C=1000, degree=3, gamma=1, kernel=poly;, score=0.949 total time=   0.1s\n",
            "[CV 2/2] END C=1000, degree=3, gamma=1, kernel=poly;, score=0.946 total time=   0.1s\n",
            "[CV 1/2] END C=1000, degree=3, gamma=1, kernel=sigmoid;, score=0.877 total time=   0.0s\n",
            "[CV 2/2] END C=1000, degree=3, gamma=1, kernel=sigmoid;, score=0.873 total time=   0.0s\n",
            "[CV 1/2] END C=1000, degree=3, gamma=0.1, kernel=rbf;, score=0.891 total time=   0.0s\n",
            "[CV 2/2] END C=1000, degree=3, gamma=0.1, kernel=rbf;, score=0.891 total time=   0.0s\n",
            "[CV 1/2] END C=1000, degree=3, gamma=0.1, kernel=linear;, score=0.975 total time=  44.2s\n",
            "[CV 2/2] END C=1000, degree=3, gamma=0.1, kernel=linear;, score=0.917 total time=   2.5s\n",
            "[CV 1/2] END C=1000, degree=3, gamma=0.1, kernel=poly;, score=0.949 total time=   0.1s\n",
            "[CV 2/2] END C=1000, degree=3, gamma=0.1, kernel=poly;, score=0.946 total time=   0.1s\n",
            "[CV 1/2] END C=1000, degree=3, gamma=0.1, kernel=sigmoid;, score=0.877 total time=   0.0s\n",
            "[CV 2/2] END C=1000, degree=3, gamma=0.1, kernel=sigmoid;, score=0.873 total time=   0.0s\n",
            "[CV 1/2] END C=1000, degree=3, gamma=0.01, kernel=rbf;, score=0.891 total time=   0.0s\n",
            "[CV 2/2] END C=1000, degree=3, gamma=0.01, kernel=rbf;, score=0.928 total time=   0.0s\n",
            "[CV 1/2] END C=1000, degree=3, gamma=0.01, kernel=linear;, score=0.975 total time=  44.1s\n",
            "[CV 2/2] END C=1000, degree=3, gamma=0.01, kernel=linear;, score=0.917 total time=   2.5s\n",
            "[CV 1/2] END C=1000, degree=3, gamma=0.01, kernel=poly;, score=0.949 total time=   0.1s\n",
            "[CV 2/2] END C=1000, degree=3, gamma=0.01, kernel=poly;, score=0.946 total time=   0.1s\n",
            "[CV 1/2] END C=1000, degree=3, gamma=0.01, kernel=sigmoid;, score=0.877 total time=   0.0s\n",
            "[CV 2/2] END C=1000, degree=3, gamma=0.01, kernel=sigmoid;, score=0.873 total time=   0.0s\n",
            "[CV 1/2] END C=1000, degree=3, gamma=0.001, kernel=rbf;, score=0.946 total time=   0.0s\n",
            "[CV 2/2] END C=1000, degree=3, gamma=0.001, kernel=rbf;, score=0.928 total time=   0.0s\n",
            "[CV 1/2] END C=1000, degree=3, gamma=0.001, kernel=linear;, score=0.975 total time=  44.1s\n",
            "[CV 2/2] END C=1000, degree=3, gamma=0.001, kernel=linear;, score=0.917 total time=   2.5s\n",
            "[CV 1/2] END C=1000, degree=3, gamma=0.001, kernel=poly;, score=0.949 total time=   0.1s\n",
            "[CV 2/2] END C=1000, degree=3, gamma=0.001, kernel=poly;, score=0.946 total time=   0.1s\n",
            "[CV 1/2] END C=1000, degree=3, gamma=0.001, kernel=sigmoid;, score=0.743 total time=   0.0s\n",
            "[CV 2/2] END C=1000, degree=3, gamma=0.001, kernel=sigmoid;, score=0.761 total time=   0.0s\n",
            "[CV 1/2] END C=1000, degree=3, gamma=0.0001, kernel=rbf;, score=0.967 total time=   0.0s\n",
            "[CV 2/2] END C=1000, degree=3, gamma=0.0001, kernel=rbf;, score=0.942 total time=   0.0s\n",
            "[CV 1/2] END C=1000, degree=3, gamma=0.0001, kernel=linear;, score=0.975 total time=  44.0s\n",
            "[CV 2/2] END C=1000, degree=3, gamma=0.0001, kernel=linear;, score=0.917 total time=   2.5s\n",
            "[CV 1/2] END C=1000, degree=3, gamma=0.0001, kernel=poly;, score=0.967 total time=   0.0s\n",
            "[CV 2/2] END C=1000, degree=3, gamma=0.0001, kernel=poly;, score=0.938 total time=   0.0s\n",
            "[CV 1/2] END C=1000, degree=3, gamma=0.0001, kernel=sigmoid;, score=0.819 total time=   0.0s\n",
            "[CV 2/2] END C=1000, degree=3, gamma=0.0001, kernel=sigmoid;, score=0.826 total time=   0.0s\n"
          ]
        }
      ]
    },
    {
      "cell_type": "code",
      "source": [
        "#Best Parameters \n",
        "g_res.best_params_"
      ],
      "metadata": {
        "colab": {
          "base_uri": "https://localhost:8080/"
        },
        "id": "sRQsL0OjqfRP",
        "outputId": "052e9160-e929-4989-9335-51c23d3bf665"
      },
      "id": "sRQsL0OjqfRP",
      "execution_count": null,
      "outputs": [
        {
          "output_type": "execute_result",
          "data": {
            "text/plain": [
              "{'C': 1000, 'degree': 1, 'gamma': 0.0001, 'kernel': 'rbf'}"
            ]
          },
          "metadata": {},
          "execution_count": 167
        }
      ]
    },
    {
      "cell_type": "markdown",
      "source": [
        "*SVC (after tuning the parameters)*"
      ],
      "metadata": {
        "id": "M5NZUh5EXIvo"
      },
      "id": "M5NZUh5EXIvo"
    },
    {
      "cell_type": "code",
      "execution_count": null,
      "id": "ab2ecc27",
      "metadata": {
        "id": "ab2ecc27"
      },
      "outputs": [],
      "source": [
        "# SVC MODEL\n",
        "model5=SVC(C=  1000, degree= 1, gamma =  0.0001, kernel = 'rbf')\n",
        "model5.fit(train_x,train_y)\n",
        "y_pred5=model5.predict(test_x)"
      ]
    },
    {
      "cell_type": "code",
      "execution_count": null,
      "id": "2c81fd6a",
      "metadata": {
        "id": "2c81fd6a",
        "outputId": "8d59e516-102c-4bc7-840b-9be15e8ef7b8",
        "colab": {
          "base_uri": "https://localhost:8080/"
        }
      },
      "outputs": [
        {
          "output_type": "stream",
          "name": "stdout",
          "text": [
            "Accuracy :  95.95 %\n",
            "Recall :  86.36 %\n",
            "Precision :  82.61 %\n",
            "F1 score :  84.44 %\n"
          ]
        }
      ],
      "source": [
        "#print metrics\n",
        "print(\"Accuracy : \", round(accuracy_score(y_pred5,test_y)*100,2),'%')\n",
        "print(\"Recall : \", round(recall_score(y_pred5,test_y)*100,2),'%')\n",
        "print(\"Precision : \", round(precision_score(y_pred5,test_y)*100,2),'%')\n",
        "print(\"F1 score : \", round(f1_score(y_pred5,test_y)*100,2),'%')"
      ]
    },
    {
      "cell_type": "code",
      "execution_count": null,
      "id": "9d5b38f7",
      "metadata": {
        "id": "9d5b38f7",
        "outputId": "4d80594d-1781-4074-f1f5-0aa4b39482a7",
        "colab": {
          "base_uri": "https://localhost:8080/",
          "height": 296
        }
      },
      "outputs": [
        {
          "output_type": "execute_result",
          "data": {
            "text/plain": [
              "Text(0, 0.5, 'TPR')"
            ]
          },
          "metadata": {},
          "execution_count": 170
        },
        {
          "output_type": "display_data",
          "data": {
            "image/png": "[encoded data removed]",
            "text/plain": [
              "<Figure size 432x288 with 1 Axes>"
            ]
          },
          "metadata": {
            "needs_background": "light"
          }
        }
      ],
      "source": [
        "#plotting\n",
        "from sklearn import metrics\n",
        "fpr, tpr, thresholds = metrics.roc_curve(test_y,y_pred5)\n",
        "\n",
        "plt.plot(fpr,tpr)\n",
        "plt.grid()\n",
        "plt.xlabel('FPR')\n",
        "plt.ylabel('TPR')\n"
      ]
    },
    {
      "cell_type": "code",
      "execution_count": null,
      "id": "ac80e834",
      "metadata": {
        "id": "ac80e834",
        "outputId": "784cf19a-74ec-4053-9506-09316317e823",
        "colab": {
          "base_uri": "https://localhost:8080/",
          "height": 296
        }
      },
      "outputs": [
        {
          "output_type": "execute_result",
          "data": {
            "text/plain": [
              "Text(0.5, 0, 'Threshold')"
            ]
          },
          "metadata": {},
          "execution_count": 171
        },
        {
          "output_type": "display_data",
          "data": {
            "image/png": "[encoded data removed]",
            "text/plain": [
              "<Figure size 432x288 with 1 Axes>"
            ]
          },
          "metadata": {
            "needs_background": "light"
          }
        }
      ],
      "source": [
        "#plotting\n",
        "plt.plot(thresholds,tpr, thresholds,fpr)\n",
        "plt.legend(['TPR','FPR'])\n",
        "plt.xlabel('Threshold')\n"
      ]
    },
    {
      "cell_type": "code",
      "execution_count": null,
      "id": "fa71806f",
      "metadata": {
        "id": "fa71806f",
        "outputId": "99052409-4072-4b1c-c08c-5a95a890bef4",
        "colab": {
          "base_uri": "https://localhost:8080/"
        }
      },
      "outputs": [
        {
          "output_type": "stream",
          "name": "stdout",
          "text": [
            "AUC=0.903043\n"
          ]
        }
      ],
      "source": [
        "#area under the curve\n",
        "auc=metrics.roc_auc_score(test_y,y_pred5)\n",
        "print(\"AUC=%f\" % auc)"
      ]
    },
    {
      "cell_type": "markdown",
      "id": "93d51bf8",
      "metadata": {
        "id": "93d51bf8"
      },
      "source": [
        "# THE best classifier to this data is : \n",
        "## ((****Decision Trees classifier****))"
      ]
    }
  ],
  "metadata": {
    "kernelspec": {
      "display_name": "Python 3",
      "language": "python",
      "name": "python3"
    },
    "language_info": {
      "codemirror_mode": {
        "name": "ipython",
        "version": 3
      },
      "file_extension": ".py",
      "mimetype": "text/x-python",
      "name": "python",
      "nbconvert_exporter": "python",
      "pygments_lexer": "ipython3",
      "version": "3.8.8"
    },
    "colab": {
      "name": "project2 asu machine.ipynb",
      "provenance": [],
      "collapsed_sections": [
        "15cc3acb",
        "dr9byxMuYLcH",
        "ac651ff5",
        "8df3d021-ddcf-46c2-8e54-d42f813c45c6",
        "92b002bc",
        "0549d002",
        "c0def566",
        "78b9b781",
        "bf044126",
        "93d51bf8"
      ]
    }
  },
  "nbformat": 4,
  "nbformat_minor": 5
}